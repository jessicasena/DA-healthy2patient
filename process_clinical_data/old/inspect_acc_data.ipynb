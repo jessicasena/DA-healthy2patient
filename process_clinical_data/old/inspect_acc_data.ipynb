{
 "cells": [
  {
   "cell_type": "code",
   "execution_count": null,
   "outputs": [],
   "source": [
    "import random\n",
    "\n",
    "import numpy as np\n",
    "from imblearn.under_sampling import RandomUnderSampler\n",
    "import pandas as pd"
   ],
   "metadata": {
    "collapsed": false,
    "pycharm": {
     "name": "#%%\n"
    }
   }
  },
  {
   "cell_type": "code",
   "execution_count": null,
   "outputs": [],
   "source": [
    "def A(sample):\n",
    "    feat = []\n",
    "    for col in range(0,sample.shape[1]):\n",
    "        average = np.average(sample[:,col])\n",
    "        feat.append(average)\n",
    "\n",
    "    return feat\n",
    "\n",
    "\n",
    "def SD(sample):\n",
    "    feat = []\n",
    "    for col in range(0, sample.shape[1]):\n",
    "        std = np.std(sample[:, col])\n",
    "        feat.append(std)\n",
    "\n",
    "    return feat\n",
    "\n",
    "\n",
    "def AAD(sample):\n",
    "    feat = []\n",
    "    for col in range(0, sample.shape[1]):\n",
    "        data = sample[:, col]\n",
    "        add = np.mean(np.absolute(data - np.mean(data)))\n",
    "        feat.append(add)\n",
    "\n",
    "    return feat\n",
    "\n",
    "\n",
    "def ARA(sample):\n",
    "    #Average Resultant Acceleration[1]:\n",
    "    # Average of the square roots of the sum of the values of each axis squared √(xi^2 + yi^2+ zi^2) over the ED\n",
    "    feat = []\n",
    "    sum_square = 0\n",
    "    sample = np.power(sample, 2)\n",
    "    for col in range(0, sample.shape[1]):\n",
    "        sum_square = sum_square + sample[:, col]\n",
    "\n",
    "    sample = np.sqrt(sum_square)\n",
    "    average = np.average(sample)\n",
    "    feat.append(average)\n",
    "    return feat\n",
    "\n",
    "\n",
    "def TBP(sample):\n",
    "    from scipy import signal\n",
    "    feat = []\n",
    "    sum_of_time = 0\n",
    "    for col in range(0, sample.shape[1]):\n",
    "        data = sample[:, col]\n",
    "        peaks = signal.find_peaks_cwt(data, np.arange(1,4))\n",
    "\n",
    "        feat.append(peaks)\n",
    "\n",
    "    return feat\n",
    "\n",
    "\n",
    "def feature_extraction(X):\n",
    "    #Extracts the features, as mentioned by Catal et al. 2015\n",
    "    # Average - A,\n",
    "    # Standard Deviation - SD,\n",
    "    # Average Absolute Difference - AAD,\n",
    "    # Average Resultant Acceleration - ARA(1),\n",
    "    # Time Between Peaks - TBP\n",
    "    X_tmp = []\n",
    "    for sample in X:\n",
    "        features = A(sample)\n",
    "        features = np.hstack((features, SD(sample)))\n",
    "        features = np.hstack((features, AAD(sample)))\n",
    "        features = np.hstack((features, ARA(sample)))\n",
    "        #features = np.hstack((features, TBP(sample)))\n",
    "        X_tmp.append(features)\n",
    "\n",
    "    X = np.array(X_tmp)\n",
    "    return X"
   ],
   "metadata": {
    "collapsed": false,
    "pycharm": {
     "name": "#%%\n"
    }
   }
  },
  {
   "cell_type": "code",
   "execution_count": null,
   "outputs": [],
   "source": [
    "np.random.seed(42)\n",
    "data_input_file = \"/home/jsenadesouza/DA-healthy2patient/results/pain/dataset/pain_patientid_acc_f100_t5_kfold.npz\"\n",
    "feature_file = data_input_file.split('.npz')[0] + '_features.npz'\n",
    "#     np.savez_compressed(data_input_file.split('.npz')[0] + '_features.npz', X=X, y=y, folds=folds)\n",
    "\n",
    "print(\"Extracting features\")\n",
    "tmp = np.load(data_input_file, allow_pickle=True)\n",
    "X = tmp['X']\n",
    "y = tmp['y']\n",
    "folds = tmp['folds']\n",
    "X = np.transpose(np.squeeze(X), (0, 2, 1))\n",
    "y_label, y_id = [], []\n",
    "for yy in y:\n",
    "    y_label.append(yy.split(\"_\")[0])\n",
    "    y_id.append(yy.split(\"_\")[1])\n",
    "\n",
    "y = np.array(y_label)\n",
    "\n",
    "# Undersampling the data to balance the classes\n",
    "rus = RandomUnderSampler(random_state=42, sampling_strategy={'none': 1000, 'mild': 1000, 'moderate': 1000, 'severe': 1000})\n",
    "rus.fit_resample(X[:, :, 0], y)\n",
    "X, y = X[rus.sample_indices_], y[rus.sample_indices_]\n",
    "print(\"Undersampling done\")\n",
    "\n",
    "X_feat = feature_extraction(X)"
   ],
   "metadata": {
    "collapsed": false,
    "pycharm": {
     "name": "#%%\n"
    }
   }
  },
  {
   "cell_type": "code",
   "execution_count": null,
   "outputs": [],
   "source": [
    "df = pd.DataFrame(np.hstack((np.squeeze(X_feat), np.expand_dims(y,axis=1))), columns=['Ax', 'Ay', 'Az', 'SDx','SDy','SDz', 'AADx', 'AADy', 'AADz', 'ARA', 'label'])\n",
    "df = df.astype(dtype= {'Ax':\"float64\", 'Ay':\"float64\", 'Az':\"float64\", 'SDx':\"float64\",'SDy':\"float64\",'SDz':\"float64\", 'AADx':\"float64\", 'AADy':\"float64\", 'AADz':\"float64\", 'ARA':\"float64\", 'label':'object'})"
   ],
   "metadata": {
    "collapsed": false,
    "pycharm": {
     "name": "#%%\n"
    }
   }
  },
  {
   "cell_type": "code",
   "execution_count": null,
   "outputs": [],
   "source": [
    "df_non = df[df['label'] == 'none']\n",
    "df_mild = df[df['label'] == 'mild']\n",
    "df_moderate = df[df['label'] == 'moderate']\n",
    "df_severe = df[df['label'] == 'severe']\n"
   ],
   "metadata": {
    "collapsed": false,
    "pycharm": {
     "name": "#%%\n"
    }
   }
  },
  {
   "cell_type": "code",
   "execution_count": null,
   "outputs": [],
   "source": [
    "pd.DataFrame([df_non.mean(axis=0), df_mild.mean(axis=0), df_moderate.mean(axis=0), df_severe.mean(axis=0)],\n",
    "             index=['none', 'mild', 'moderate', 'severe']).T"
   ],
   "metadata": {
    "collapsed": false,
    "pycharm": {
     "name": "#%%\n"
    }
   }
  },
  {
   "cell_type": "code",
   "execution_count": null,
   "outputs": [],
   "source": [
    "import pandas as pd\n",
    "import numpy as np\n",
    "from datetime import datetime\n",
    "import matplotlib.pyplot as plt\n",
    "import seaborn as sns\n",
    "\n",
    "def interpolate_sensors(samples, type_interp, n_samples, plot=False):\n",
    "    samples = np.array(samples)\n",
    "    shape = samples.shape\n",
    "    if len(shape) > 3:\n",
    "        samples = np.squeeze(samples)\n",
    "        shape = samples.shape\n",
    "    new_samples = []\n",
    "    for smp in samples:\n",
    "        s = []\n",
    "        for sig in range(shape[-1]):\n",
    "            size = int(smp.shape[0])\n",
    "            x = np.linspace(0, size-1, num=size, endpoint=True)\n",
    "            y = smp[:,sig]\n",
    "            f = interp1d(x, y, kind= type_interp)\n",
    "            x_new = np.linspace(0, size-1, num=n_samples, endpoint=True)\n",
    "            y_new = f(x_new)\n",
    "            s.append(y_new)\n",
    "            if plot:\n",
    "                plt.plot(x, y, '--', x_new, y_new, 'o')\n",
    "                plt.xticks(x_new)\n",
    "                plt.show()\n",
    "        s = np.array(s)\n",
    "        new_samples.append(s)\n",
    "    #new_samples = np.array(new_samples)\n",
    "    return new_samples\n",
    "\n",
    "def plot_acceleration(sample, timestamp):\n",
    "\n",
    "    fig, ax = plt.subplots(figsize=(10,6))\n",
    "    time = pd.to_datetime(timestamp, format='%Y-%m-%d %H:%M:%S.%f')\n",
    "  # add every single subplot to the figure with a for loop\n",
    "    sns.lineplot(time, sample[:, 0], label='x', ax=ax)\n",
    "    sns.lineplot(time, sample[:, 1], label='y', ax=ax)\n",
    "    sns.lineplot(time, sample[:, 2], label='z', ax=ax)\n",
    "    #ax.title.set_text(label + '\\n' + str(v))\n",
    "    #ax.set_ylim(-0.5,0.5)\n",
    "    #ax.legend()\n",
    "    #plt.axis('equal')\n",
    "    plt.show()"
   ],
   "metadata": {
    "collapsed": false,
    "pycharm": {
     "name": "#%%\n"
    }
   }
  },
  {
   "cell_type": "code",
   "execution_count": null,
   "outputs": [],
   "source": [
    "df = pd.read_csv('/home/jsenadesouza/DA-healthy2patient/data/clinical_data/pain_acc/pain_30minmargin_measurednowcol_p_44_t_2018-03-27_bp_WRIST.csv')\n",
    "df.head()"
   ],
   "metadata": {
    "collapsed": false,
    "pycharm": {
     "name": "#%%\n"
    }
   }
  },
  {
   "cell_type": "code",
   "execution_count": null,
   "outputs": [],
   "source": [
    "df_day = df[df['timestamp'].str.contains('2018-03-28')]\n",
    "df_day.tail()"
   ],
   "metadata": {
    "collapsed": false,
    "pycharm": {
     "name": "#%%\n"
    }
   }
  },
  {
   "cell_type": "code",
   "execution_count": null,
   "outputs": [],
   "source": [
    "df_day = df[df['timestamp'].str.contains('2018-03-29')]\n",
    "df_day.tail()"
   ],
   "metadata": {
    "collapsed": false,
    "pycharm": {
     "name": "#%%\n"
    }
   }
  },
  {
   "cell_type": "code",
   "execution_count": null,
   "outputs": [],
   "source": [
    "np.unique(df_day['pain_score'])"
   ],
   "metadata": {
    "collapsed": false,
    "pycharm": {
     "name": "#%%\n"
    }
   }
  },
  {
   "cell_type": "code",
   "execution_count": null,
   "outputs": [],
   "source": [
    "plot_acceleration(df_day[['x','y','z']].values)"
   ],
   "metadata": {
    "collapsed": false,
    "pycharm": {
     "name": "#%%\n"
    }
   }
  },
  {
   "cell_type": "code",
   "execution_count": null,
   "outputs": [],
   "source": [
    "df_day[['x','y','z']].values.shape"
   ],
   "metadata": {
    "collapsed": false,
    "pycharm": {
     "name": "#%%\n"
    }
   }
  },
  {
   "cell_type": "code",
   "execution_count": null,
   "outputs": [],
   "source": [
    "df_frame = df[:3527999]"
   ],
   "metadata": {
    "collapsed": false,
    "pycharm": {
     "name": "#%%\n"
    }
   }
  },
  {
   "cell_type": "code",
   "execution_count": null,
   "outputs": [],
   "source": [
    "plot_acceleration(df_frame[['x','y','z']].values, df_frame['timestamp'])\n"
   ],
   "metadata": {
    "collapsed": false,
    "pycharm": {
     "name": "#%%\n"
    }
   }
  },
  {
   "cell_type": "code",
   "execution_count": null,
   "outputs": [],
   "source": [
    "intervals = []\n",
    "last = df_frame['pain_score'].iloc[0]\n",
    "intervals.append({'pain_score': last, 'start': 0, 'end': 0})\n",
    "for i in tqdm(range(1, len(df_frame))):\n",
    "    if df_frame.iloc[i]['pain_score'] != last:\n",
    "        intervals[-1][\"end\"] = i-1\n",
    "        intervals.append({'pain_score': df_frame.iloc[i]['pain_score'], 'start': i, 'end': i})\n",
    "    last = df_frame.iloc[i]['pain_score']"
   ],
   "metadata": {
    "collapsed": false,
    "pycharm": {
     "name": "#%%\n"
    }
   }
  }
 ],
 "metadata": {
  "kernelspec": {
   "display_name": "Python 3",
   "language": "python",
   "name": "python3"
  },
  "language_info": {
   "codemirror_mode": {
    "name": "ipython",
    "version": 2
   },
   "file_extension": ".py",
   "mimetype": "text/x-python",
   "name": "python",
   "nbconvert_exporter": "python",
   "pygments_lexer": "ipython2",
   "version": "2.7.6"
  }
 },
 "nbformat": 4,
 "nbformat_minor": 0
}