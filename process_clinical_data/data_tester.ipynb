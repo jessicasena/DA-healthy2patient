{
 "cells": [
  {
   "cell_type": "code",
   "execution_count": null,
   "metadata": {},
   "outputs": [],
   "source": [
    "# importing package\n",
    "import matplotlib.pyplot as plt\n",
    "import numpy as np\n",
    "import random\n",
    "from datetime import datetime\n",
    "\n",
    "import pandas as pd\n",
    "import math\n",
    "\n",
    "plt.style.use('dark_background')"
   ]
  },
  {
   "cell_type": "code",
   "execution_count": null,
   "metadata": {
    "pycharm": {
     "name": "#%%\n"
    }
   },
   "outputs": [],
   "source": [
    "file_16_19 = np.load('/home/jsenadesouza/DA-healthy2patient/results/pain/dataset/16-19_painscore_patientid_acc_30minmargin_measurednowcol_30min_10hz_filtered.npz', allow_pickle=True)\n",
    "file_20_22 = np.load('/home/jsenadesouza/DA-healthy2patient/results/pain/dataset/20-22_painscore_patientid_acc_30minmargin_measurednowcol_30min_10hz_filtered.npz', allow_pickle=True)"
   ]
  },
  {
   "cell_type": "code",
   "execution_count": null,
   "metadata": {},
   "outputs": [],
   "source": [
    "def dataset_name_y(y, prefix):\n",
    "    new_y = []\n",
    "    for yy in y:\n",
    "        l, p = yy.split('_')\n",
    "        new_y.append(l + '_' + prefix + p)\n",
    "    return new_y"
   ]
  },
  {
   "cell_type": "code",
   "execution_count": null,
   "metadata": {},
   "outputs": [],
   "source": [
    "X = np.concatenate((file_20_22[\"X\"], file_16_19[\"X\"]))\n",
    "first_study = dataset_name_y(file_20_22[\"y\"], 'B')\n",
    "second_study = dataset_name_y(file_16_19[\"y\"], 'A')\n",
    "y = np.concatenate((first_study, second_study))"
   ]
  },
  {
   "cell_type": "markdown",
   "metadata": {},
   "source": [
    "Analize data"
   ]
  },
  {
   "cell_type": "code",
   "execution_count": null,
   "metadata": {
    "pycharm": {
     "name": "#%%\n"
    }
   },
   "outputs": [],
   "source": [
    "def split_y(y, prefix):\n",
    "    y_label = []\n",
    "    y_patient = []\n",
    "    for yy in y:\n",
    "        l, p = yy.split('_')\n",
    "        y_label.append(l)\n",
    "        y_patient.append(prefix + '_' + p)\n",
    "    return y_label, y_patient"
   ]
  },
  {
   "cell_type": "code",
   "execution_count": null,
   "metadata": {},
   "outputs": [],
   "source": [
    "l_1, p_1 = split_y(file_20_22[\"y\"], '2022')\n",
    "l_2, p_2 = split_y(file_16_19[\"y\"], '1619')\n",
    "\n",
    "y_label = [int(x) for x in np.concatenate((l_1,l_2))]\n",
    "y_patient = np.concatenate((p_1,p_2))\n",
    "\n",
    "print(f'Number of patients: {len(np.unique(y_patient))}')\n",
    "print(f'Classe distribution:\\n')\n",
    "label, qnt = np.unique(y_label, return_counts=True)\n",
    "label = [int(x) for x in label]\n",
    "mild = 0\n",
    "severe = 0\n",
    "for ll, qq in zip(label, qnt):\n",
    "    if ll >= 5:\n",
    "        severe += qq\n",
    "    else:\n",
    "        mild += qq\n",
    "    print(f'{ll}: {qq}')\n",
    "    \n",
    "print(f'Total mild: {mild}')\n",
    "print(f'Total severe: {severe}')"
   ]
  },
  {
   "cell_type": "code",
   "execution_count": null,
   "metadata": {
    "pycharm": {
     "name": "#%%\n"
    }
   },
   "outputs": [],
   "source": [
    "def magnitude(sample):\n",
    "    mag_vector = []\n",
    "    for s in sample:\n",
    "        mag_vector.append(math.sqrt(sum([s[0]**2, s[1]**2, s[2]**2])))\n",
    "    return mag_vector\n",
    "\n",
    "def plot_acceleration(x, y):\n",
    "\n",
    "    Tot = x.shape[0]\n",
    "    Cols = x.shape[0]//5\n",
    "\n",
    "    # Compute Rows required\n",
    "\n",
    "    Rows = Tot // Cols\n",
    "    Rows += Tot % Cols\n",
    "\n",
    "    # Create a Position index\n",
    "\n",
    "    Position = range(1,Tot + 1)\n",
    "    # Create main figure\n",
    "\n",
    "    fig = plt.figure(1, figsize=(30,20))\n",
    "    k=0\n",
    "    for sample, label in zip(x, y):\n",
    "\n",
    "      # add every single subplot to the figure with a for loop\n",
    "\n",
    "        ax = fig.add_subplot(Rows,Cols,Position[k])\n",
    "        ax.plot(sample)\n",
    "        l, p = label.split('_')\n",
    "        ax.title.set_text(f'Pain score: {l} - Patient:{p}')\n",
    "        #ax.set_ylim(-0.5,0.5)\n",
    "        k+=1\n",
    "    #plt.axis('equal')\n",
    "    #plt.show()\n",
    "    plt.savefig(f'/home/jsenadesouza/DA-healthy2patient/results/plot_clusters/labels/{datetime.now().strftime(\"%d-%m-%y-%H-%M-%S\")}.png')"
   ]
  },
  {
   "cell_type": "code",
   "execution_count": null,
   "metadata": {
    "pycharm": {
     "name": "#%%\n"
    }
   },
   "outputs": [],
   "source": [
    "def plot_samples(pain_level):\n",
    "    df = pd.DataFrame({\"labels\":np.array(y_label), \"patient\":np.array(y_patient)}, columns=[\"labels\", \"patient\"])\n",
    "    if pain_level == \"severe\":\n",
    "        idxs = np.random.choice(df.index[[df[\"labels\"] >=5 ]], size=20)\n",
    "    elif pain_level == \"mild\":\n",
    "        idxs = np.random.choice(df.index[[df[\"labels\"] < 5 ]], size=20)\n",
    "    else:\n",
    "        print('Pain level not recognized: {pain_level}')\n",
    "\n",
    "    x_filtered = X[idxs]\n",
    "    y_filtered = y[idxs]\n",
    "\n",
    "    samples_x = np.array([magnitude(np.squeeze(xx)) for xx in x_filtered])\n",
    "    samples_y = y_filtered\n",
    "\n",
    "    plot_acceleration(samples_x, samples_y)"
   ]
  },
  {
   "cell_type": "code",
   "execution_count": null,
   "metadata": {
    "scrolled": true
   },
   "outputs": [],
   "source": [
    "plot_samples('mild')"
   ]
  },
  {
   "cell_type": "code",
   "execution_count": null,
   "metadata": {},
   "outputs": [],
   "source": [
    "plot_samples('severe')"
   ]
  },
  {
   "cell_type": "code",
   "execution_count": null,
   "metadata": {},
   "outputs": [],
   "source": []
  }
 ],
 "metadata": {
  "kernelspec": {
   "display_name": "Python 3 (ipykernel)",
   "language": "python",
   "name": "python3"
  },
  "language_info": {
   "codemirror_mode": {
    "name": "ipython",
    "version": 3
   },
   "file_extension": ".py",
   "mimetype": "text/x-python",
   "name": "python",
   "nbconvert_exporter": "python",
   "pygments_lexer": "ipython3",
   "version": "3.8.12"
  }
 },
 "nbformat": 4,
 "nbformat_minor": 1
}