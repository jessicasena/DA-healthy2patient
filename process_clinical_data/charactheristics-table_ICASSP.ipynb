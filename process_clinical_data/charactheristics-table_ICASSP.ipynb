{
 "cells": [
  {
   "cell_type": "code",
   "execution_count": 1,
   "id": "6ffa51b9",
   "metadata": {},
   "outputs": [],
   "source": [
    "import os\n",
    "import pandas as pd\n",
    "import numpy as np\n",
    "from datetime import datetime\n",
    "from datetime import date\n",
    "import dateutil.parser\n",
    "from time import time\n",
    "import io\n",
    "import msoffcrypto\n",
    "import math"
   ]
  },
  {
   "cell_type": "code",
   "execution_count": 2,
   "id": "70fe70c8",
   "metadata": {
    "scrolled": true
   },
   "outputs": [],
   "source": [
    "passwd = 'pervasiveICU'\n",
    "\n",
    "filename = '/home/jsenadesouza/DA-healthy2patient/Pervasive_Sensing_Enrollment_Log.xlsx'\n",
    "decrypted_workbook = io.BytesIO()\n",
    "with open(filename, 'rb') as file:\n",
    "    office_file = msoffcrypto.OfficeFile(file)\n",
    "    office_file.load_key(password=passwd)\n",
    "    office_file.decrypt(decrypted_workbook)\n",
    "\n",
    "ADAPT_enrollment = pd.read_excel(decrypted_workbook, engine=\"openpyxl\")\n"
   ]
  },
  {
   "cell_type": "code",
   "execution_count": 3,
   "id": "0d0df717",
   "metadata": {},
   "outputs": [
    {
     "name": "stdout",
     "output_type": "stream",
     "text": [
      "143\n"
     ]
    }
   ],
   "source": [
    "data_input_file = \"/home/jsenadesouza/DA-healthy2patient/results/outcomes/dataset/f10_t900_IntelligentICU_PAIN_ADAPT_15min.npz\"\n",
    "tmp = np.load(data_input_file, allow_pickle=True)\n",
    "X= tmp['X']\n",
    "y = tmp['y']\n",
    "y_col_names = list(tmp['y_col_names'])\n",
    "col_idx = y_col_names.index('patient_id')\n",
    "y_patient = np.array(y[:, col_idx])\n",
    "y_target = np.unique(y_patient)\n",
    "print(len(y_target))"
   ]
  },
  {
   "cell_type": "code",
   "execution_count": 4,
   "id": "057b0465-73b5-4c61-b871-94351ad27a98",
   "metadata": {},
   "outputs": [],
   "source": [
    "def set_patient_map():\n",
    "    # create a map between the subject_deiden_id and the patient id\n",
    "    patient_map = {}\n",
    "    patient_enrollment = pd.read_excel('/data/daily_data/patient_id_mapping.xlsx', engine='openpyxl')\n",
    "\n",
    "    for row in patient_enrollment.itertuples():\n",
    "        patient_map[row.patient_id] = row.subject_deiden_id\n",
    "\n",
    "    return patient_map\n"
   ]
  },
  {
   "cell_type": "code",
   "execution_count": 5,
   "id": "1c63b3f1-3e95-4641-8dad-47db7e91c552",
   "metadata": {},
   "outputs": [
    {
     "name": "stderr",
     "output_type": "stream",
     "text": [
      "/tmp/ipykernel_54460/3250153617.py:12: DtypeWarning: Columns (15,38) have mixed types. Specify dtype option on import or set low_memory=False.\n",
      "  df = pd.read_csv(file)\n",
      "/tmp/ipykernel_54460/3250153617.py:12: DtypeWarning: Columns (15) have mixed types. Specify dtype option on import or set low_memory=False.\n",
      "  df = pd.read_csv(file)\n",
      "/tmp/ipykernel_54460/3250153617.py:12: DtypeWarning: Columns (15,38) have mixed types. Specify dtype option on import or set low_memory=False.\n",
      "  df = pd.read_csv(file)\n",
      "/tmp/ipykernel_54460/3250153617.py:12: DtypeWarning: Columns (38) have mixed types. Specify dtype option on import or set low_memory=False.\n",
      "  df = pd.read_csv(file)\n",
      "/tmp/ipykernel_54460/3250153617.py:12: DtypeWarning: Columns (11,38) have mixed types. Specify dtype option on import or set low_memory=False.\n",
      "  df = pd.read_csv(file)\n",
      "/tmp/ipykernel_54460/3250153617.py:12: DtypeWarning: Columns (38) have mixed types. Specify dtype option on import or set low_memory=False.\n",
      "  df = pd.read_csv(file)\n"
     ]
    }
   ],
   "source": [
    "import glob\n",
    "input_dir = '/data/datasets/ICU_Data/EHR_Data/truncated/2020-02-26/'\n",
    "df_2016 = pd.read_csv(os.path.join(input_dir, 'encounters_0_trimmed.csv'))\n",
    "\n",
    "df_2021 = []\n",
    "files_enc = glob.glob('/data/daily_data/*/encounters*.csv',\n",
    "                      recursive=True)\n",
    "files_peso = glob.glob('/data/daily_data/*/height_weight*.csv',\n",
    "                      recursive=True)\n",
    "\n",
    "for file in files_enc:\n",
    "    df = pd.read_csv(file)\n",
    "    df_2021.append(df)\n",
    "    \n",
    "df_2021_peso = []\n",
    "for file in files_peso:\n",
    "    df = pd.read_csv(file)\n",
    "    df_2021_peso.append(df)\n",
    "\n",
    "\n",
    "df_2021 = pd.concat(df_2021)\n",
    "df_2021_peso = pd.concat(df_2021_peso)"
   ]
  },
  {
   "cell_type": "code",
   "execution_count": 6,
   "id": "a56ce4f0-8372-438e-8f29-da94625f8532",
   "metadata": {},
   "outputs": [],
   "source": [
    "patient_map = set_patient_map()\n",
    "#df_2021_peso.columns\n",
    "#row_peso = df_2021_peso[(df_2021_peso['patient_deiden_id'] == patient_map[\"P003\"]) & (df_2021_peso['measurement_name'] == 'height_cm')]['measurement_value'].values[0]"
   ]
  },
  {
   "cell_type": "code",
   "execution_count": 10,
   "id": "87121e88",
   "metadata": {},
   "outputs": [
    {
     "data": {
      "text/plain": [
       "Index(['hospital', 'encounter_effective_date', 'admit_datetime',\n",
       "       'admit_source', 'dischg_datetime', 'sex', 'race', 'ethnicity',\n",
       "       'language', 'city', 'country', 'zip', 'state', 'county',\n",
       "       'marital_status', 'ed_arrival_datetime', 'isdead_y_n', 'encounter_type',\n",
       "       'appointment_status', 'patient_type', 'hosp_svc_dept', 'hosp_svc_desc',\n",
       "       'location_of_svc', 'external_name', 'birth_date', 'payer',\n",
       "       'icd9_admit_diagnosis', 'icd9_admit_diagnosis_desc',\n",
       "       'icd9_admit_diagnosis_group', 'icd10_admit_diagnosis',\n",
       "       'icd10_admit_diagnosis_desc', 'icd10_admit_diagnosis_group',\n",
       "       'admit_priority', 'seen_in_ed_y_n', 'dischg_disposition',\n",
       "       'dischg_svc_dept_ip_obs', 'dischg_svc_desc_ip_obs', 'death_indicator',\n",
       "       'death_date', 'aids', 'cancer', 'cerebrovascular_disease', 'chf',\n",
       "       'copd', 'dementia', 'diabetes_w_o_complications',\n",
       "       'diabetes_w_complications', 'm_i', 'metastatic_carcinoma',\n",
       "       'mild_liver_disease', 'moderate_severe_liver_disease',\n",
       "       'paraplegia_hemiplegia', 'peptic_ulcer_disease',\n",
       "       'peripheral_vascular_disease', 'renal_disease', 'rheumatologic_disease',\n",
       "       'aids_poa', 'cancer_poa', 'cerebrovascular_poa', 'chf_poa', 'copd_poa',\n",
       "       'dementia_poa', 'diabetes_w_o_complications_poa',\n",
       "       'diabetes_w_complications_poa', 'm_i_poa', 'metastatic_carcinoma_poa',\n",
       "       'mild_liver_disease_poa', 'moderate_severe_liver_disease_poa',\n",
       "       'paraplegia_hemiplegia_poa', 'peptic_ulcer_disease_poa',\n",
       "       'peripheral_vascular_disease_poa', 'renal_disease_poa',\n",
       "       'rheumatologic_poa', 'charlson_comorbidity_total_score', 'height_cm',\n",
       "       'weight_kgs', 'smoking_status', 'ed_dischg_datetime',\n",
       "       'index_encounter_y_n', 'patient_deiden_id', 'encounter_deiden_id',\n",
       "       'attending_dr_deiden_id', 'referring_dr_deiden_id'],\n",
       "      dtype='object')"
      ]
     },
     "execution_count": 10,
     "metadata": {},
     "output_type": "execute_result"
    }
   ],
   "source": [
    "df_2021.columns"
   ]
  },
  {
   "cell_type": "code",
   "execution_count": 7,
   "id": "93bed827",
   "metadata": {},
   "outputs": [
    {
     "name": "stdout",
     "output_type": "stream",
     "text": [
      "P070\n",
      "[]\n"
     ]
    }
   ],
   "source": [
    "patients_char = []\n",
    "patient_map = set_patient_map()\n",
    "for patient_id in y_target:\n",
    "    if \"P\" in patient_id or \"I\" in patient_id:\n",
    "        row = df_2021[df_2021['patient_deiden_id'] == patient_map[patient_id]]\n",
    "        height = np.mean(df_2021_peso[(df_2021_peso['patient_deiden_id'] == patient_map[patient_id]) & (df_2021_peso['measurement_name'] == 'weight_kgs')]['measurement_value'].values)\n",
    "        weight = df_2021_peso[(df_2021_peso['patient_deiden_id'] == patient_map[patient_id]) & (df_2021_peso['measurement_name'] == 'height_cm')]['measurement_value'].values[0]\n",
    "        if \"I\" in patient_id:\n",
    "            try:\n",
    "                admit = datetime.strptime(ADAPT_enrollment['ICU_admit'][ADAPT_enrollment[\"Record ID\"] == patient_id].values[0], '%m/%d/%y %H%M')\n",
    "            except:\n",
    "                try:\n",
    "                    admit = datetime.strptime(ADAPT_enrollment['ICU_admit'][ADAPT_enrollment[\"Record ID\"] == patient_id].values[0], '%m/%d/%Y %H%M')\n",
    "                except:\n",
    "                    print(f\"admit: {ADAPT_enrollment['ICU_admit'][ADAPT_enrollment['Record ID'] == patient_id].values}\")\n",
    "            try:\n",
    "                consent = pd.Timestamp(ADAPT_enrollment['Consent Date'][ADAPT_enrollment[\"Record ID\"] == patient_id].values[0])\n",
    "            except:\n",
    "                print(f\"consent: {ADAPT_enrollment['Consent Date'][ADAPT_enrollment['Record ID'] == patient_id].values}\")\n",
    "            try:\n",
    "                dischg = datetime.strptime(ADAPT_enrollment['ICU_dischg'][ADAPT_enrollment[\"Record ID\"] == patient_id].values[0], '%m/%d/%y %H%M')\n",
    "            except:\n",
    "                d_time = ADAPT_enrollment['ICU_dischg'][ADAPT_enrollment[\"Record ID\"] == patient_id].values[0]\n",
    "                if type(d_time) == type(datetime):\n",
    "                    dischg = d_time\n",
    "                else:              \n",
    "                    dischg = datetime.combine(date.today(), datetime.min.time())\n",
    "        else:\n",
    "            ad_rows = row['admit_datetime'][~row['admit_datetime'].isna()].values\n",
    "            dc_rows = row['dischg_datetime'][~row['dischg_datetime'].isna()].values\n",
    "            try:\n",
    "                admit = datetime.strptime(min(ad_rows), '%Y-%m-%d %H:%M:%S')\n",
    "            except:\n",
    "                admit = datetime.strptime(min(ad_rows), '%Y-%m-%d')\n",
    "            try:\n",
    "                dischg = datetime.strptime(max(dc_rows), '%Y-%m-%d %H:%M:%S')\n",
    "            except:\n",
    "                try:\n",
    "                    dischg = datetime.strptime(max(dc_rows), '%Y-%m-%d')\n",
    "                except:\n",
    "                    print(patient_id)\n",
    "                    print(dc_rows)\n",
    "                    dischg = datetime.combine(date.today(), datetime.min.time())\n",
    "        consent = admit\n",
    "    else:\n",
    "        row = df_2016[df_2016['record_id'] == int(patient_id)]\n",
    "        height = row['height_cm'][~row['height_cm'].isna()].values[0]\n",
    "        weight = row['weight_kgs'][~row['weight_kgs'].isna()].values[0]\n",
    "        ad_rows = row['admit_datetime'][~row['admit_datetime'].isna()].values\n",
    "        dc_rows = row['dischg_datetime'][~row['dischg_datetime'].isna()].values\n",
    "        try:\n",
    "            admit = datetime.strptime(min(ad_rows), '%Y-%m-%d %H:%M:%S')\n",
    "        except:\n",
    "            admit = datetime.strptime(min(ad_rows), '%Y-%m-%d')\n",
    "        try:\n",
    "            dischg = datetime.strptime(max(dc_rows), '%Y-%m-%d %H:%M:%S')\n",
    "        except:\n",
    "            try:\n",
    "                dischg = datetime.strptime(max(dc_rows), '%Y-%m-%d')\n",
    "            except:\n",
    "                print(patient_id)\n",
    "                print(dc_rows)\n",
    "                dischg = datetime.combine(date.today(), datetime.min.time())\n",
    "        consent = admit\n",
    "        \n",
    "        \n",
    "    birth = datetime.strptime(row['birth_date'][~row['birth_date'].isna()].values[0], '%Y-%m-%d')\n",
    "    age = int((consent - birth).days/365)\n",
    "    lenght_stay = abs((dischg - admit).days)\n",
    "\n",
    "    gender = row['sex'][~row['sex'].isna()].values[0]\n",
    "    race = row['race'][~row['race'].isna()].values[0]\n",
    "    ethnicity = row['ethnicity'][~row['ethnicity'].isna()].values[0]\n",
    "    if len(row['aids'][~row['aids'].isna()]) > 0:\n",
    "        aids = row['aids'][~row['aids'].isna()].values[0]\n",
    "    else:\n",
    "        aids = -1\n",
    "    if len(row['cancer'][~row['cancer'].isna()]) > 0:\n",
    "        cancer = row['cancer'][~row['cancer'].isna()].values[0]\n",
    "    else:\n",
    "        cancer = -1\n",
    "    if len(row['cerebrovascular_disease'][~row['cerebrovascular_disease'].isna()]) > 0:\n",
    "        cerebrovascular_disease = row['cerebrovascular_disease'][~row['cerebrovascular_disease'].isna()].values[0]\n",
    "    else:\n",
    "        cerebrovascular_disease = -1\n",
    "    if len(row['dementia'][~row['dementia'].isna()]) > 0:\n",
    "        dementia = row['dementia'][~row['dementia'].isna()].values[0]\n",
    "    else:\n",
    "        dementia = -1\n",
    "    if len(row['paraplegia_hemiplegia'][~row['paraplegia_hemiplegia'].isna()]) > 0:\n",
    "        paraplegia_hemiplegia = row['paraplegia_hemiplegia'][~row['paraplegia_hemiplegia'].isna()].values[0]\n",
    "    else:\n",
    "        paraplegia_hemiplegia = -1\n",
    "    if len(row['smoking_status'][~row['smoking_status'].isna()]) > 0:\n",
    "        smoking_status = row['smoking_status'][~row['smoking_status'].isna()].values[0]\n",
    "    else:\n",
    "        smoking_status = -1\n",
    "    if len(row['chf'][~row['chf'].isna()]) > 0:\n",
    "        chf = row['chf'][~row['chf'].isna()].values[0]\n",
    "    else:\n",
    "        chf = -1\n",
    "    if len(row['copd'][~row['copd'].isna()]) > 0:\n",
    "        copd = row['copd'][~row['copd'].isna()].values[0]\n",
    "    else:\n",
    "        copd = -1\n",
    "    \n",
    "    if len(row['diabetes_w_o_complications'][~row['diabetes_w_o_complications'].isna()]) > 0:\n",
    "        diabetes_w_o_complications = row['diabetes_w_o_complications'][~row['diabetes_w_o_complications'].isna()].values[0]\n",
    "    else:\n",
    "        diabetes_w_o_complications = -1    \n",
    "    if len(row['diabetes_w_complications'][~row['diabetes_w_complications'].isna()]) > 0:\n",
    "        diabetes_w_complications = row['diabetes_w_complications'][~row['diabetes_w_complications'].isna()].values[0]\n",
    "    else:\n",
    "        diabetes_w_complications = -1    \n",
    "    if diabetes_w_o_complications == 1 or diabetes_w_complications == 1:\n",
    "        diabetes = 1\n",
    "    elif diabetes_w_o_complications == -1 and diabetes_w_complications == -1:\n",
    "        diabetes = -1\n",
    "    elif diabetes_w_o_complications == 0 and diabetes_w_complications == 0:\n",
    "        diabetes = 0\n",
    "    if len(row['m_i'][~row['m_i'].isna()]) > 0:\n",
    "        m_i = row['m_i'][~row['m_i'].isna()].values[0]\n",
    "    else:\n",
    "        m_i = -1\n",
    "    if len(row['metastatic_carcinoma'][~row['metastatic_carcinoma'].isna()]) > 0:\n",
    "        metastatic_carcinoma = row['metastatic_carcinoma'][~row['metastatic_carcinoma'].isna()].values[0]\n",
    "    else:\n",
    "        metastatic_carcinoma = -1\n",
    "    if len(row['mild_liver_disease'][~row['mild_liver_disease'].isna()]) > 0:\n",
    "        mild_liver_disease = row['mild_liver_disease'][~row['mild_liver_disease'].isna()].values[0]\n",
    "    else:\n",
    "        mild_liver_disease = -1\n",
    "    if len(row['moderate_severe_liver_disease'][~row['moderate_severe_liver_disease'].isna()]) > 0:\n",
    "        moderate_severe_liver_disease = row['moderate_severe_liver_disease'][~row['moderate_severe_liver_disease'].isna()].values[0]\n",
    "    else:\n",
    "        moderate_severe_liver_disease = -1\n",
    "    if mild_liver_disease == 1 or moderate_severe_liver_disease == 1:\n",
    "        liver_disease = 1\n",
    "    elif mild_liver_disease == -1 and moderate_severe_liver_disease == -1:\n",
    "        liver_disease = -1\n",
    "    elif mild_liver_disease == 0 and moderate_severe_liver_disease == 0:\n",
    "        liver_disease = 0\n",
    "    if len(row['peptic_ulcer_disease'][~row['peptic_ulcer_disease'].isna()]) > 0:\n",
    "        peptic_ulcer_disease = row['peptic_ulcer_disease'][~row['peptic_ulcer_disease'].isna()].values[0]\n",
    "    else:\n",
    "        peptic_ulcer_disease = -1\n",
    "    if len(row['peripheral_vascular_disease'][~row['peripheral_vascular_disease'].isna()]) > 0:\n",
    "        peripheral_vascular_disease = row['peripheral_vascular_disease'][~row['peripheral_vascular_disease'].isna()].values[0]\n",
    "    else:\n",
    "        peripheral_vascular_disease = -1\n",
    "    if len(row['renal_disease'][~row['renal_disease'].isna()]) > 0:\n",
    "        renal_disease = row['renal_disease'][~row['renal_disease'].isna()].values[0]\n",
    "    else:\n",
    "        renal_disease = -1\n",
    "    if len(row['rheumatologic_disease'][~row['rheumatologic_disease'].isna()]) > 0:\n",
    "        rheumatologic_disease = row['rheumatologic_disease'][~row['rheumatologic_disease'].isna()].values[0]\n",
    "    else:\n",
    "        rheumatologic_disease = -1\n",
    "\n",
    "\n",
    "    patients_char.append({'patient_id': patient_id, 'sex': gender, 'race': race, 'height_cm': height, \n",
    "                          'age':age, 'weight_kgs':weight, 'lenght_stay':lenght_stay, \n",
    "                          \"ethnicity\":ethnicity, \"aids\":aids, \"cancer\":cancer, \"cerebrovascular_disease\":cerebrovascular_disease,\n",
    "                          \"dementia\":dementia, \"paraplegia_hemiplegia\":paraplegia_hemiplegia, \"smoking_status\":smoking_status,\n",
    "                          \"chf\":chf, \"copd\":copd, \"diabetes\":diabetes, \"m_i\":m_i, \"metastatic_carcinoma\":metastatic_carcinoma, \n",
    "                          \"liver_disease\":liver_disease, \"peptic_ulcer_disease\":peptic_ulcer_disease, \"renal_disease\":renal_disease, \n",
    "                          \"rheumatologic_disease\":rheumatologic_disease\n",
    "                         })\n",
    "\n",
    "\n",
    "\n",
    "df_char = pd.DataFrame(data=patients_char)"
   ]
  },
  {
   "cell_type": "code",
   "execution_count": 9,
   "id": "35c297ed",
   "metadata": {},
   "outputs": [],
   "source": [
    "df_char.filter([\"lenght_stay\",\"patient_id\"]).to_csv(\"los.csv\")"
   ]
  },
  {
   "cell_type": "code",
   "execution_count": null,
   "id": "033c6c6f",
   "metadata": {},
   "outputs": [],
   "source": [
    "print(\"age\")\n",
    "print(df_char[\"age\"].describe())\n",
    "print(\"height_cm\")\n",
    "print(df_char[\"height_cm\"].describe())\n",
    "print(\"weight_kgs\")\n",
    "print(df_char[\"weight_kgs\"].describe())\n",
    "print(\"lenght_stay\")\n",
    "print(df_char[\"lenght_stay\"].describe())\n",
    "for col in df_char.columns:\n",
    "    print(col)\n",
    "    print(df_char[col].value_counts())"
   ]
  },
  {
   "cell_type": "code",
   "execution_count": null,
   "id": "d378993b",
   "metadata": {},
   "outputs": [],
   "source": [
    "df_char.loc[df_char.sex == 'MALE', 'sex']= 0\n",
    "df_char.loc[df_char.sex != 'MALE', 'sex']= 1\n",
    "df_char.loc[df_char.race == 'BLACK', 'race']= 0\n",
    "df_char.loc[df_char.race != 'BLACK', 'race']= 1"
   ]
  },
  {
   "cell_type": "code",
   "execution_count": null,
   "id": "133c8159-bef7-4ad7-aa59-1e7cb538ff75",
   "metadata": {},
   "outputs": [],
   "source": [
    "len(np.unique(df_char[\"patient_id\"].values))"
   ]
  },
  {
   "cell_type": "code",
   "execution_count": null,
   "id": "7e920301",
   "metadata": {},
   "outputs": [],
   "source": [
    "X_char = []\n",
    "col_patient = y_col_names.index('patient_id')\n",
    "for xx, sample in zip(X.squeeze(), y):\n",
    "    try:\n",
    "        char_pat = df_char[df_char[\"patient_id\"] == sample[col_patient]]\n",
    "        char_final = list(char_pat.loc[:, char_pat.columns != \"patient_id\"].values[0])\n",
    "        xx = np.transpose(xx, (1,0))\n",
    "        poi = POI(xx)\n",
    "\n",
    "        char_final.append(poi)\n",
    "        X_char.append(char_final)\n",
    "    except:\n",
    "        print(sample[col_patient])\n",
    "X_char = np.array(X_char)"
   ]
  },
  {
   "cell_type": "code",
   "execution_count": null,
   "id": "8bcb182c",
   "metadata": {},
   "outputs": [],
   "source": [
    "print(y_col_names)"
   ]
  },
  {
   "cell_type": "code",
   "execution_count": null,
   "id": "251f4abf",
   "metadata": {},
   "outputs": [],
   "source": [
    "col_idx = y_col_names.index('pain_score')\n",
    "pain_scores = np.array(y[:, col_idx])\n",
    "pain_scores = [round(float(x)) for x in pain_scores]\n",
    "print(np.unique(pain_scores, return_counts=True))"
   ]
  },
  {
   "cell_type": "code",
   "execution_count": null,
   "id": "0f4b4527",
   "metadata": {},
   "outputs": [],
   "source": [
    "print(4959+   68+   89+   66+   69)"
   ]
  },
  {
   "cell_type": "code",
   "execution_count": null,
   "id": "f192f4e5",
   "metadata": {},
   "outputs": [],
   "source": [
    "print(91+ 78 + 158+ 105+ 43 +46)"
   ]
  },
  {
   "cell_type": "code",
   "execution_count": null,
   "id": "4ea9e13c",
   "metadata": {},
   "outputs": [],
   "source": []
  }
 ],
 "metadata": {
  "kernelspec": {
   "display_name": "Python 3 (ipykernel)",
   "language": "python",
   "name": "python3"
  },
  "language_info": {
   "codemirror_mode": {
    "name": "ipython",
    "version": 3
   },
   "file_extension": ".py",
   "mimetype": "text/x-python",
   "name": "python",
   "nbconvert_exporter": "python",
   "pygments_lexer": "ipython3",
   "version": "3.9.12"
  }
 },
 "nbformat": 4,
 "nbformat_minor": 5
}
