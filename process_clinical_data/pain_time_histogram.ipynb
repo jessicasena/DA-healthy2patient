{
 "cells": [
  {
   "cell_type": "code",
   "execution_count": 1,
   "id": "9844d437",
   "metadata": {},
   "outputs": [],
   "source": [
    "import pandas as pd"
   ]
  },
  {
   "cell_type": "code",
   "execution_count": 2,
   "id": "0614020c",
   "metadata": {},
   "outputs": [],
   "source": [
    "df_int = pd.read_csv(\n",
    "        '/home/jsenadesouza/DA-healthy2patient/data/clinical_data/2016-20119_clinical_data_outcomes.csv')\n",
    "df_pain = pd.read_csv(\n",
    "        '/home/jsenadesouza/DA-healthy2patient/data/clinical_data/PAINandADAPT_clinical_data_outcomes.csv')"
   ]
  },
  {
   "cell_type": "code",
   "execution_count": 3,
   "id": "918d60ac",
   "metadata": {},
   "outputs": [
    {
     "data": {
      "text/html": [
       "<div>\n",
       "<style scoped>\n",
       "    .dataframe tbody tr th:only-of-type {\n",
       "        vertical-align: middle;\n",
       "    }\n",
       "\n",
       "    .dataframe tbody tr th {\n",
       "        vertical-align: top;\n",
       "    }\n",
       "\n",
       "    .dataframe thead th {\n",
       "        text-align: right;\n",
       "    }\n",
       "</style>\n",
       "<table border=\"1\" class=\"dataframe\">\n",
       "  <thead>\n",
       "    <tr style=\"text-align: right;\">\n",
       "      <th></th>\n",
       "      <th>timestamp</th>\n",
       "      <th>patient_id</th>\n",
       "      <th>heart_rate</th>\n",
       "      <th>temp_farenheit</th>\n",
       "      <th>lenght_stay</th>\n",
       "      <th>is_dead</th>\n",
       "      <th>pain_score</th>\n",
       "      <th>sofa_score</th>\n",
       "      <th>blood_pressure</th>\n",
       "      <th>braden_score</th>\n",
       "      <th>spo2</th>\n",
       "      <th>cam</th>\n",
       "    </tr>\n",
       "  </thead>\n",
       "  <tbody>\n",
       "    <tr>\n",
       "      <th>0</th>\n",
       "      <td>2017-03-17 23:26:00</td>\n",
       "      <td>14</td>\n",
       "      <td>104.0</td>\n",
       "      <td>98.8</td>\n",
       "      <td>17</td>\n",
       "      <td>0</td>\n",
       "      <td>5.0</td>\n",
       "      <td>13.0</td>\n",
       "      <td>97.0</td>\n",
       "      <td>13.0</td>\n",
       "      <td>100.0</td>\n",
       "      <td>0.0</td>\n",
       "    </tr>\n",
       "    <tr>\n",
       "      <th>1</th>\n",
       "      <td>2016-11-25 22:00:00</td>\n",
       "      <td>8</td>\n",
       "      <td>98.0</td>\n",
       "      <td>98.4</td>\n",
       "      <td>22</td>\n",
       "      <td>0</td>\n",
       "      <td>-1.0</td>\n",
       "      <td>7.0</td>\n",
       "      <td>74.0</td>\n",
       "      <td>10.0</td>\n",
       "      <td>98.5</td>\n",
       "      <td>0.0</td>\n",
       "    </tr>\n",
       "    <tr>\n",
       "      <th>2</th>\n",
       "      <td>2018-09-23 09:30:00</td>\n",
       "      <td>81</td>\n",
       "      <td>107.0</td>\n",
       "      <td>99.0</td>\n",
       "      <td>9</td>\n",
       "      <td>0</td>\n",
       "      <td>0.0</td>\n",
       "      <td>10.0</td>\n",
       "      <td>79.0</td>\n",
       "      <td>19.0</td>\n",
       "      <td>99.0</td>\n",
       "      <td>0.0</td>\n",
       "    </tr>\n",
       "    <tr>\n",
       "      <th>3</th>\n",
       "      <td>2018-06-09 06:00:00</td>\n",
       "      <td>59</td>\n",
       "      <td>94.0</td>\n",
       "      <td>97.7</td>\n",
       "      <td>66</td>\n",
       "      <td>0</td>\n",
       "      <td>0.0</td>\n",
       "      <td>3.0</td>\n",
       "      <td>82.0</td>\n",
       "      <td>13.0</td>\n",
       "      <td>100.0</td>\n",
       "      <td>0.0</td>\n",
       "    </tr>\n",
       "    <tr>\n",
       "      <th>4</th>\n",
       "      <td>2018-10-12 12:00:00</td>\n",
       "      <td>89</td>\n",
       "      <td>98.0</td>\n",
       "      <td>97.2</td>\n",
       "      <td>17</td>\n",
       "      <td>1</td>\n",
       "      <td>0.0</td>\n",
       "      <td>4.0</td>\n",
       "      <td>70.0</td>\n",
       "      <td>20.0</td>\n",
       "      <td>99.0</td>\n",
       "      <td>0.0</td>\n",
       "    </tr>\n",
       "  </tbody>\n",
       "</table>\n",
       "</div>"
      ],
      "text/plain": [
       "             timestamp  patient_id  heart_rate  temp_farenheit  lenght_stay  \\\n",
       "0  2017-03-17 23:26:00          14       104.0            98.8           17   \n",
       "1  2016-11-25 22:00:00           8        98.0            98.4           22   \n",
       "2  2018-09-23 09:30:00          81       107.0            99.0            9   \n",
       "3  2018-06-09 06:00:00          59        94.0            97.7           66   \n",
       "4  2018-10-12 12:00:00          89        98.0            97.2           17   \n",
       "\n",
       "   is_dead  pain_score  sofa_score  blood_pressure  braden_score   spo2  cam  \n",
       "0        0         5.0        13.0            97.0          13.0  100.0  0.0  \n",
       "1        0        -1.0         7.0            74.0          10.0   98.5  0.0  \n",
       "2        0         0.0        10.0            79.0          19.0   99.0  0.0  \n",
       "3        0         0.0         3.0            82.0          13.0  100.0  0.0  \n",
       "4        1         0.0         4.0            70.0          20.0   99.0  0.0  "
      ]
     },
     "execution_count": 3,
     "metadata": {},
     "output_type": "execute_result"
    }
   ],
   "source": [
    "df_int.head()"
   ]
  },
  {
   "cell_type": "code",
   "execution_count": 6,
   "id": "46f482cb",
   "metadata": {},
   "outputs": [],
   "source": [
    "df_1 = df_int[\"timestamp\"][df_int[\"pain_score\"] != -1.0]"
   ]
  },
  {
   "cell_type": "code",
   "execution_count": 9,
   "id": "3d4f680e",
   "metadata": {},
   "outputs": [],
   "source": [
    "df_2 = df_pain[\"timestamp\"][df_pain[\"pain_score\"] != -1.0]"
   ]
  },
  {
   "cell_type": "code",
   "execution_count": 22,
   "id": "b68eaccb",
   "metadata": {},
   "outputs": [],
   "source": [
    "times = {\"redondo\": 0, \"quebrado\":0}\n",
    "for x in df_1:\n",
    "    if x.split(\":\")[-2] == \"00\":\n",
    "        times[\"redondo\"] += 1\n",
    "    else:\n",
    "        times[\"quebrado\"] += 1\n",
    "for x in df_2:\n",
    "    if x.split(\":\")[-2] == \"00\":\n",
    "        times[\"redondo\"] += 1\n",
    "    else:\n",
    "        times[\"quebrado\"] += 1"
   ]
  },
  {
   "cell_type": "code",
   "execution_count": 23,
   "id": "5fa62286",
   "metadata": {},
   "outputs": [
    {
     "data": {
      "text/plain": [
       "{'redondo': 69491, 'quebrado': 106423}"
      ]
     },
     "execution_count": 23,
     "metadata": {},
     "output_type": "execute_result"
    }
   ],
   "source": [
    "times"
   ]
  },
  {
   "cell_type": "code",
   "execution_count": 21,
   "id": "233a7fba",
   "metadata": {},
   "outputs": [
    {
     "data": {
      "text/plain": [
       "['2017-03-17 23', '26', '00']"
      ]
     },
     "execution_count": 21,
     "metadata": {},
     "output_type": "execute_result"
    }
   ],
   "source": [
    "df_1[0].split(\":\")"
   ]
  },
  {
   "cell_type": "code",
   "execution_count": null,
   "id": "fb5b42d7",
   "metadata": {},
   "outputs": [],
   "source": []
  }
 ],
 "metadata": {
  "kernelspec": {
   "display_name": "Python 3 (ipykernel)",
   "language": "python",
   "name": "python3"
  },
  "language_info": {
   "codemirror_mode": {
    "name": "ipython",
    "version": 3
   },
   "file_extension": ".py",
   "mimetype": "text/x-python",
   "name": "python",
   "nbconvert_exporter": "python",
   "pygments_lexer": "ipython3",
   "version": "3.9.12"
  }
 },
 "nbformat": 4,
 "nbformat_minor": 5
}
