{
 "cells": [
  {
   "cell_type": "code",
   "execution_count": 27,
   "id": "816f39d7-56a4-4fe7-8549-e65083d956c9",
   "metadata": {},
   "outputs": [],
   "source": [
    "import math\n",
    "import numpy as np\n",
    "from scipy.stats import pearsonr\n",
    "from tqdm import tqdm\n",
    "from multiprocessing import Pool\n",
    "from time import time"
   ]
  },
  {
   "cell_type": "code",
   "execution_count": 48,
   "id": "672f4204-a148-4c74-93bf-c65678f6fa85",
   "metadata": {},
   "outputs": [],
   "source": [
    "def magnitude(sample):\n",
    "    mag_vector = []\n",
    "    for s in sample:\n",
    "        mag_vector.append(math.sqrt(sum([s[0]**2, s[1]**2, s[2]**2])))\n",
    "    return mag_vector\n",
    "\n",
    "def A(sample):\n",
    "    feat = []\n",
    "    for col in range(0,sample.shape[0]):\n",
    "        average = np.average(sample[col,:])\n",
    "        feat.append(average)\n",
    "\n",
    "    return np.mean(feat)\n",
    "\n",
    "\n",
    "def SD(sample):\n",
    "    feat = []\n",
    "    for col in range(0, sample.shape[0]):\n",
    "        std = np.std(sample[col,:])\n",
    "        feat.append(std)\n",
    "\n",
    "    return np.mean(feat)\n",
    "\n",
    "\n",
    "def AAD(sample):\n",
    "    feat = []\n",
    "    for col in range(0, sample.shape[0]):\n",
    "        data = sample[col,:]\n",
    "        add = np.mean(np.absolute(data - np.mean(data)))\n",
    "        feat.append(add)\n",
    "\n",
    "    return np.mean(feat)\n",
    "\n",
    "\n",
    "def ARA(sample):\n",
    "    #Average Resultant Acceleration[1]:\n",
    "    # Average of the square roots of the sum of the values of each axis squared √(xi^2 + yi^2+ zi^2) over the ED\n",
    "    feat = []\n",
    "    sum_square = 0\n",
    "    sample = np.power(sample, 2)\n",
    "    for col in range(0, sample.shape[0]):\n",
    "        sum_square = sum_square + sample[col,:]\n",
    "\n",
    "    sample = np.sqrt(sum_square)\n",
    "    average = np.average(sample)\n",
    "    feat.append(average)\n",
    "    return np.mean(feat)\n",
    "\n",
    "def mag_mean(sample):\n",
    "    mag = magnitude(sample)\n",
    "    ft_mean = np.mean(mag)\n",
    "    return ft_mean\n",
    "\n",
    "def man_std(sample):\n",
    "    mag = magnitude(sample)\n",
    "    ft_std = np.std(mag)\n",
    "    return ft_std\n",
    "\n",
    "\n",
    "def feature_extraction(X):\n",
    "    \"\"\"\n",
    "    Derive three activity intensity cues: mean and standard deviation of activity intensity,\n",
    "    and duration of immobility during assessment window to summarize the data.\n",
    "    # Average - A,\n",
    "    # Standard Deviation - SD,\n",
    "    # Average Absolute Difference - AAD,\n",
    "    # Average Resultant Acceleration - ARA(1),\n",
    "    \"\"\"\n",
    "    features = []\n",
    "    for sample in tqdm(X):\n",
    "        #mag = magnitude(sample)\n",
    "        #ft_mean = np.mean(mag)\n",
    "        #ft_std = np.std(mag)\n",
    "        features = A(sample)\n",
    "        #features = np.hstack((features, SD(sample)))\n",
    "        #features = np.hstack((features, AAD(sample)))\n",
    "        #features = np.hstack((features, ARA(sample)))\n",
    "        # calculate duration of immobility\n",
    "        #features.append([ft_mean, ft_std])\n",
    "\n",
    "    return features"
   ]
  },
  {
   "cell_type": "code",
   "execution_count": 53,
   "id": "b160125e-9dff-41a9-be5c-27c8718991a9",
   "metadata": {},
   "outputs": [],
   "source": [
    "import math, os\n",
    "import numpy as np\n",
    "from scipy import signal\n",
    "import pandas as pd\n",
    "import resampy\n",
    "\n",
    "##predefined filter coefficients, as found by Jan Brond\n",
    "A_coeff = np.array(\n",
    "    [1, -4.1637, 7.5712,-7.9805, 5.385, -2.4636, 0.89238, 0.06361, -1.3481, 2.4734, -2.9257, 2.9298, -2.7816, 2.4777,\n",
    "     -1.6847, 0.46483, 0.46565, -0.67312, 0.4162, -0.13832, 0.019852])\n",
    "B_coeff = np.array(\n",
    "    [0.049109, -0.12284, 0.14356, -0.11269, 0.053804, -0.02023, 0.0063778, 0.018513, -0.038154, 0.048727, -0.052577,\n",
    "     0.047847, -0.046015, 0.036283, -0.012977, -0.0046262, 0.012835, -0.0093762, 0.0034485, -0.00080972, -0.00019623])\n",
    "\n",
    "def pptrunc(data, max_value):\n",
    "    '''\n",
    "    Saturate a vector such that no element's absolute value exceeds max_abs_value.\n",
    "    Current name: absolute_saturate().\n",
    "      :param data: a vector of any dimension containing numerical data\n",
    "      :param max_value: a float value of the absolute value to not exceed\n",
    "      :return: the saturated vector\n",
    "    '''\n",
    "    outd = np.where(data > max_value, max_value, data)\n",
    "    return np.where(outd < -max_value, -max_value, outd)\n",
    "\n",
    "def trunc(data, min_value):\n",
    "  \n",
    "    '''\n",
    "    Truncate a vector such that any value lower than min_value is set to 0.\n",
    "    Current name zero_truncate().\n",
    "    :param data: a vector of any dimension containing numerical data\n",
    "    :param min_value: a float value the elements of data should not fall below\n",
    "    :return: the truncated vector\n",
    "    '''\n",
    "\n",
    "    return np.where(data < min_value, 0, data)\n",
    "\n",
    "def runsum(data, length, threshold):\n",
    "    '''\n",
    "    Compute the running sum of values in a vector exceeding some threshold within a range of indices.\n",
    "    Divides the data into len(data)/length chunks and sums the values in excess of the threshold for each chunk.\n",
    "    Current name run_sum().\n",
    "    :param data: a 1D numerical vector to calculate the sum of\n",
    "    :param len: the length of each chunk to compute a sum along, as a positive integer\n",
    "    :param threshold: a numerical value used to find values exceeding some threshold\n",
    "    :return: a vector of length len(data)/length containing the excess value sum for each chunk of data\n",
    "    '''\n",
    "    \n",
    "    N = len(data)\n",
    "    cnt = int(math.ceil(N/length))\n",
    "\n",
    "    rs = np.zeros(cnt)\n",
    "\n",
    "    for n in range(cnt):\n",
    "        for p in range(length*n, length*(n+1)):\n",
    "            if p<N and data[p]>=threshold:\n",
    "                rs[n] = rs[n] + data[p] - threshold\n",
    "\n",
    "    return rs\n",
    "\n",
    "def counts(data, filesf, B=B_coeff, A=A_coeff):\n",
    "    '''\n",
    "    Get activity counts for a set of accelerometer observations.\n",
    "    First resamples the data frequency to 30Hz, then applies a Butterworth filter to the signal, then filters by the\n",
    "    coefficient matrices, saturates and truncates the result, and applies a running sum to get the final counts.\n",
    "    Current name get_actigraph_counts()\n",
    "    :param data: the vertical axis of accelerometer readings, as a vector\n",
    "    :param filesf: the number of observations per second in the file\n",
    "    :param a: coefficient matrix for filtering the signal, as found by Jan Brond\n",
    "    :param b: coefficient matrix for filtering the signal, as found by Jan Brond\n",
    "    :return: a vector containing the final counts\n",
    "    '''\n",
    "    \n",
    "    deadband = 0.068\n",
    "    sf = 30\n",
    "    peakThreshold = 2.13\n",
    "    adcResolution = 0.0164\n",
    "    integN = 10\n",
    "    gain = 0.965\n",
    "\n",
    "    #if filesf>sf:\n",
    "    data = resampy.resample(np.asarray(data), filesf, sf)\n",
    "\n",
    "    B2, A2 = signal.butter(4, np.array([0.01, 7])/(sf/2), btype='bandpass')\n",
    "    dataf = signal.filtfilt(B2, A2, data)\n",
    "\n",
    "    B = B * gain\n",
    "\n",
    "    #NB: no need for a loop here as we only have one axis in array\n",
    "    fx8up = signal.lfilter(B, A, dataf)\n",
    "\n",
    "    fx8 = pptrunc(fx8up[::3], peakThreshold) #downsampling is replaced by slicing with step parameter\n",
    "\n",
    "    return runsum(np.floor(trunc(np.abs(fx8), deadband)/adcResolution), integN, 0)"
   ]
  },
  {
   "cell_type": "code",
   "execution_count": 29,
   "id": "c88f78b8-4089-466d-a8de-aa6ea4c8a99a",
   "metadata": {},
   "outputs": [],
   "source": [
    "def cal_corr_mean(clin_variable, y, feat):\n",
    "    \n",
    "    col_idx = y_col_names.index(clin_variable)\n",
    "    y_target = np.array(y[:, col_idx].astype(float))\n",
    "    corr, pvalue = pearsonr(feat, y_target)\n",
    "    return corr, pvalue"
   ]
  },
  {
   "cell_type": "code",
   "execution_count": 23,
   "id": "917fd5d4-2b5e-47e2-99bb-6d43c95203a5",
   "metadata": {},
   "outputs": [],
   "source": [
    "data_input_file = \"/home/jsenadesouza/DA-healthy2patient/results/outcomes/dataset/f10_t1800_outcomesscore_patientid_acc_30minmargin_measurednowcol_30min_10hz_filtered.npz\"\n",
    "\n",
    "tmp = np.load(data_input_file, allow_pickle=True)\n",
    "X = tmp['X']\n",
    "y = tmp['y']\n",
    "y_col_names = list(tmp['y_col_names'])\n",
    "X = np.transpose(np.squeeze(X), (0, 2, 1))\n"
   ]
  },
  {
   "cell_type": "code",
   "execution_count": 54,
   "id": "0032bafb-3fa2-4dd9-8c64-d4a237f8562f",
   "metadata": {},
   "outputs": [
    {
     "data": {
      "text/plain": [
       "(3, 18000)"
      ]
     },
     "execution_count": 54,
     "metadata": {},
     "output_type": "execute_result"
    }
   ],
   "source": [
    "sample = X[0]\n",
    "sample.shape"
   ]
  },
  {
   "cell_type": "code",
   "execution_count": 62,
   "id": "d5f4499f-61e2-4be1-91d6-b632b44eb774",
   "metadata": {},
   "outputs": [
    {
     "name": "stderr",
     "output_type": "stream",
     "text": [
      "/home/jsenadesouza/.conda/envs/jessica/lib/python3.8/site-packages/numpy/core/fromnumeric.py:3440: RuntimeWarning: Mean of empty slice.\n",
      "  return _methods._mean(a, axis=axis, dtype=dtype,\n",
      "/home/jsenadesouza/.conda/envs/jessica/lib/python3.8/site-packages/numpy/core/_methods.py:189: RuntimeWarning: invalid value encountered in double_scalars\n",
      "  ret = ret.dtype.type(ret / rcount)\n"
     ]
    }
   ],
   "source": [
    "#def immobility(sample):\n",
    "def calc_mob_per_min(countx, county, countz):\n",
    "    mob_per_min = []\n",
    "    for i in range(0, len(countx), 60):\n",
    "        countx_1m = np.mean(countx[i:60])\n",
    "        county_1m = np.mean(county[i:60])\n",
    "        countz_1m = np.mean(countz[i:60])\n",
    "        mob_per_min.append(np.mean([countx_1m, county_1m, countz_1m]))\n",
    "    return mob_per_min\n",
    "\n",
    "# calculate counts per axis\n",
    "c1_1s = counts(sample[0], 10)\n",
    "c2_1s = counts(sample[1], 10)\n",
    "c3_1s = counts(sample[2], 10)\n",
    "mob_per_min = calc_mob_per_min(c1_1s, c2_1s, c3_1s)\n",
    "    \n",
    "        "
   ]
  },
  {
   "cell_type": "code",
   "execution_count": 66,
   "id": "10850941-0346-49d8-b93c-a4e55d45b471",
   "metadata": {},
   "outputs": [
    {
     "name": "stdout",
     "output_type": "stream",
     "text": [
      "(18000,)\n",
      "(54000,)\n"
     ]
    }
   ],
   "source": [
    "print(sample[0].shape)\n",
    "data = resampy.resample(np.asarray(sample[0]), 10, 30)\n",
    "print(data.shape)"
   ]
  },
  {
   "cell_type": "code",
   "execution_count": 49,
   "id": "11d0174d-8760-4f80-99e3-7132f9c7abed",
   "metadata": {
    "tags": []
   },
   "outputs": [
    {
     "name": "stdout",
     "output_type": "stream",
     "text": [
      "Extracting Features\n",
      "8.3 seconds passed.\n"
     ]
    }
   ],
   "source": [
    "print(\"Extracting Features\")\n",
    "start = time()\n",
    "with Pool(10) as p:\n",
    "        X_feat = p.map(ARA, X)\n",
    "end = time()\n",
    "print(f\"{end-start:.2} seconds passed.\")\n",
    "#X_feat = np.array(feature_extraction(X))"
   ]
  },
  {
   "cell_type": "code",
   "execution_count": 50,
   "id": "431ae281-4b7b-490f-bc76-d67928b50f8e",
   "metadata": {},
   "outputs": [
    {
     "name": "stdout",
     "output_type": "stream",
     "text": [
      "Pearsonr correlation\n",
      "-0.03 (0.043119)\n",
      "0.00 (0.768480)\n",
      "0.02 (0.061371)\n",
      "0.01 (0.232450)\n",
      "-0.01 (0.249685)\n",
      "0.03 (0.015247)\n",
      "-0.05 (0.000143)\n",
      "0.05 (0.000026)\n",
      "0.02 (0.108279)\n",
      "0.02 (0.046479)\n"
     ]
    }
   ],
   "source": [
    "print(f\"Pearsonr correlation\")\n",
    "variables = np.array(y_col_names)[[0, 2, 4, 5, 6, 8, 10, 12, 14, 16]]\n",
    "for clin_variable in variables:\n",
    "    corr, pvalue = cal_corr_mean(clin_variable, y, X_feat)\n",
    "    print(f\"{corr:.2f} ({pvalue:.6f})\")\n",
    "    "
   ]
  }
 ],
 "metadata": {
  "kernelspec": {
   "display_name": "Python 3 (ipykernel)",
   "language": "python",
   "name": "python3"
  },
  "language_info": {
   "codemirror_mode": {
    "name": "ipython",
    "version": 3
   },
   "file_extension": ".py",
   "mimetype": "text/x-python",
   "name": "python",
   "nbconvert_exporter": "python",
   "pygments_lexer": "ipython3",
   "version": "3.8.12"
  }
 },
 "nbformat": 4,
 "nbformat_minor": 5
}
