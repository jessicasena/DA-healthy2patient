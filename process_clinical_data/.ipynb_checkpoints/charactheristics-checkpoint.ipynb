{
 "cells": [
  {
   "cell_type": "code",
   "execution_count": 1,
   "id": "68e8d030-5f9a-41e8-804c-11bb02412eb7",
   "metadata": {},
   "outputs": [],
   "source": [
    "import os\n",
    "import pandas as pd\n",
    "import numpy as np\n",
    "from datetime import datetime"
   ]
  },
  {
   "cell_type": "code",
   "execution_count": 2,
   "id": "bb647f67-292f-4e74-93f1-eb79a44a9630",
   "metadata": {},
   "outputs": [],
   "source": [
    "input_dir = '/data/datasets/ICU_Data/EHR_Data/truncated/2020-02-26/'\n",
    "df = pd.read_csv(os.path.join(input_dir, 'encounters_0_trimmed.csv'))"
   ]
  },
  {
   "cell_type": "code",
   "execution_count": 3,
   "id": "6724de55-64f9-4bf6-bfe6-441232c0fbe2",
   "metadata": {},
   "outputs": [],
   "source": [
    "data_input_file = \"/home/jsenadesouza/DA-healthy2patient/results/outcomes/dataset/f10_t1800_outcomesscore_patientid_acc_30minmargin_measurednowcol_30min_10hz_filtered.npz\"\n",
    "tmp = np.load(data_input_file, allow_pickle=True)\n",
    "X= tmp['X']\n",
    "y = tmp['y']\n",
    "y_col_names = list(tmp['y_col_names'])\n",
    "col_idx = y_col_names.index('patient_id')\n",
    "y_patient = np.array(y[:, col_idx])\n",
    "y_target = np.unique(y_patient)"
   ]
  },
  {
   "cell_type": "code",
   "execution_count": 4,
   "id": "f4b8e01c-c9de-4f01-8e5e-a2a9346efaf0",
   "metadata": {},
   "outputs": [],
   "source": [
    "import math, os\n",
    "import numpy as np\n",
    "from scipy import signal\n",
    "import pandas as pd\n",
    "import resampy\n",
    "\n",
    "##predefined filter coefficients, as found by Jan Brond\n",
    "A_coeff = np.array(\n",
    "    [1, -4.1637, 7.5712,-7.9805, 5.385, -2.4636, 0.89238, 0.06361, -1.3481, 2.4734, -2.9257, 2.9298, -2.7816, 2.4777,\n",
    "     -1.6847, 0.46483, 0.46565, -0.67312, 0.4162, -0.13832, 0.019852])\n",
    "B_coeff = np.array(\n",
    "    [0.049109, -0.12284, 0.14356, -0.11269, 0.053804, -0.02023, 0.0063778, 0.018513, -0.038154, 0.048727, -0.052577,\n",
    "     0.047847, -0.046015, 0.036283, -0.012977, -0.0046262, 0.012835, -0.0093762, 0.0034485, -0.00080972, -0.00019623])\n",
    "\n",
    "def pptrunc(data, max_value):\n",
    "    '''\n",
    "    Saturate a vector such that no element's absolute value exceeds max_abs_value.\n",
    "    Current name: absolute_saturate().\n",
    "      :param data: a vector of any dimension containing numerical data\n",
    "      :param max_value: a float value of the absolute value to not exceed\n",
    "      :return: the saturated vector\n",
    "    '''\n",
    "    outd = np.where(data > max_value, max_value, data)\n",
    "    return np.where(outd < -max_value, -max_value, outd)\n",
    "\n",
    "def trunc(data, min_value):\n",
    "  \n",
    "    '''\n",
    "    Truncate a vector such that any value lower than min_value is set to 0.\n",
    "    Current name zero_truncate().\n",
    "    :param data: a vector of any dimension containing numerical data\n",
    "    :param min_value: a float value the elements of data should not fall below\n",
    "    :return: the truncated vector\n",
    "    '''\n",
    "\n",
    "    return np.where(data < min_value, 0, data)\n",
    "\n",
    "def runsum(data, length, threshold):\n",
    "    '''\n",
    "    Compute the running sum of values in a vector exceeding some threshold within a range of indices.\n",
    "    Divides the data into len(data)/length chunks and sums the values in excess of the threshold for each chunk.\n",
    "    Current name run_sum().\n",
    "    :param data: a 1D numerical vector to calculate the sum of\n",
    "    :param len: the length of each chunk to compute a sum along, as a positive integer\n",
    "    :param threshold: a numerical value used to find values exceeding some threshold\n",
    "    :return: a vector of length len(data)/length containing the excess value sum for each chunk of data\n",
    "    '''\n",
    "    \n",
    "    N = len(data)\n",
    "    cnt = int(math.ceil(N/length))\n",
    "\n",
    "    rs = np.zeros(cnt)\n",
    "\n",
    "    for n in range(cnt):\n",
    "        for p in range(length*n, length*(n+1)):\n",
    "            if p<N and data[p]>=threshold:\n",
    "                rs[n] = rs[n] + data[p] - threshold\n",
    "\n",
    "    return rs\n",
    "\n",
    "def counts(data, filesf, B=B_coeff, A=A_coeff):\n",
    "    '''\n",
    "    Get activity counts for a set of accelerometer observations.\n",
    "    First resamples the data frequency to 30Hz, then applies a Butterworth filter to the signal, then filters by the\n",
    "    coefficient matrices, saturates and truncates the result, and applies a running sum to get the final counts.\n",
    "    Current name get_actigraph_counts()\n",
    "    :param data: the vertical axis of accelerometer readings, as a vector\n",
    "    :param filesf: the number of observations per second in the file\n",
    "    :param a: coefficient matrix for filtering the signal, as found by Jan Brond\n",
    "    :param b: coefficient matrix for filtering the signal, as found by Jan Brond\n",
    "    :return: a vector containing the final counts\n",
    "    '''\n",
    "    \n",
    "    deadband = 0.068\n",
    "    sf = 30\n",
    "    peakThreshold = 2.13\n",
    "    adcResolution = 0.0164\n",
    "    integN = 10\n",
    "    gain = 0.965\n",
    "\n",
    "    #if filesf>sf:\n",
    "    data = resampy.resample(np.asarray(data), filesf, sf)\n",
    "\n",
    "    B2, A2 = signal.butter(4, np.array([0.01, 7])/(sf/2), btype='bandpass')\n",
    "    dataf = signal.filtfilt(B2, A2, data)\n",
    "\n",
    "    B = B * gain\n",
    "\n",
    "    #NB: no need for a loop here as we only have one axis in array\n",
    "    fx8up = signal.lfilter(B, A, dataf)\n",
    "\n",
    "    fx8 = pptrunc(fx8up[::3], peakThreshold) #downsampling is replaced by slicing with step parameter\n",
    "\n",
    "    return runsum(np.floor(trunc(np.abs(fx8), deadband)/adcResolution), integN, 0)"
   ]
  },
  {
   "cell_type": "code",
   "execution_count": 5,
   "id": "b7cf933e-1c83-41f0-b51a-9df92e15c738",
   "metadata": {},
   "outputs": [],
   "source": [
    "def POI(sample):\n",
    "    \"\"\"\n",
    "    Calculate the percentage of time spent immobile in a window\n",
    "    \"\"\"\n",
    "    def calc_mob_per_min(countx, county, countz):\n",
    "        mob_per_min = []\n",
    "        for i in range(0, len(countx), 60):\n",
    "            countx_1m = np.mean(countx[i:i+60])\n",
    "            county_1m = np.mean(county[i:i+60])\n",
    "            countz_1m = np.mean(countz[i:i+60])\n",
    "            mob_per_min.append(np.mean([countx_1m, county_1m, countz_1m]))\n",
    "        return mob_per_min\n",
    "\n",
    "    def percentagem_of_immobility(mob_per_min):\n",
    "        mob_per_min = np.asarray(mob_per_min)\n",
    "        inactivity_counts = (mob_per_min <= 4).sum() \n",
    "        return inactivity_counts/len(mob_per_min)\n",
    "\n",
    "    # calculate counts per axis\n",
    "    c1_1s = counts(sample[0], 10)\n",
    "    c2_1s = counts(sample[1], 10)\n",
    "    c3_1s = counts(sample[2], 10)\n",
    "    mob_per_min = calc_mob_per_min(c1_1s, c2_1s, c3_1s)\n",
    "    POI = percentagem_of_immobility(mob_per_min)\n",
    "    return POI\n",
    "    \n",
    "        "
   ]
  },
  {
   "cell_type": "code",
   "execution_count": 6,
   "id": "863e1ee5-e9c4-4f35-b324-5074e386fa8c",
   "metadata": {},
   "outputs": [
    {
     "name": "stdout",
     "output_type": "stream",
     "text": [
      "21.85(18.06)\n"
     ]
    }
   ],
   "source": [
    "patients_char = []\n",
    "for patient_id in y_target:\n",
    "    row = df[df['record_id'] == int(patient_id)]\n",
    "    admit = datetime.strptime(row['admit_datetime'].values[0], '%Y-%m-%d %H:%M:%S')\n",
    "    birth = datetime.strptime(row['birth_date'].values[0], '%Y-%m-%d')\n",
    "    dischg = datetime.strptime(row['dischg_datetime'].values[0], '%Y-%m-%d %H:%M:%S')\n",
    "    lenght_stay = abs((dischg - admit).days)\n",
    "    age = int((admit - birth).days/365)\n",
    "    gender = row['sex'].values[0]\n",
    "    race = row['race'].values[0]\n",
    "    height = row['height_cm'].values[0]\n",
    "    weight = row['weight_kgs'].values[0]\n",
    "    patients_char.append({'patient_id': int(patient_id), 'sex': gender, 'race': race, 'height_cm': height, 'age':age, 'weight_kgs':weight, 'lenght_stay':lenght_stay})\n",
    "\n",
    "df_char = pd.DataFrame(data=patients_char)\n",
    "\n",
    "variable = 'lenght_stay'\n",
    "print(f'{df_char[variable].mean():.2f}({df_char[variable].std():.2f})')"
   ]
  },
  {
   "cell_type": "code",
   "execution_count": 9,
   "id": "41900992-2edf-4491-9d55-fd81558920fb",
   "metadata": {},
   "outputs": [
    {
     "data": {
      "text/html": [
       "<div>\n",
       "<style scoped>\n",
       "    .dataframe tbody tr th:only-of-type {\n",
       "        vertical-align: middle;\n",
       "    }\n",
       "\n",
       "    .dataframe tbody tr th {\n",
       "        vertical-align: top;\n",
       "    }\n",
       "\n",
       "    .dataframe thead th {\n",
       "        text-align: right;\n",
       "    }\n",
       "</style>\n",
       "<table border=\"1\" class=\"dataframe\">\n",
       "  <thead>\n",
       "    <tr style=\"text-align: right;\">\n",
       "      <th></th>\n",
       "      <th>patient_id</th>\n",
       "      <th>sex</th>\n",
       "      <th>race</th>\n",
       "      <th>height_cm</th>\n",
       "      <th>age</th>\n",
       "      <th>weight_kgs</th>\n",
       "      <th>lenght_stay</th>\n",
       "    </tr>\n",
       "  </thead>\n",
       "  <tbody>\n",
       "    <tr>\n",
       "      <th>0</th>\n",
       "      <td>100</td>\n",
       "      <td>1</td>\n",
       "      <td>1</td>\n",
       "      <td>172.720001</td>\n",
       "      <td>58</td>\n",
       "      <td>82.553744</td>\n",
       "      <td>5</td>\n",
       "    </tr>\n",
       "    <tr>\n",
       "      <th>1</th>\n",
       "      <td>101</td>\n",
       "      <td>1</td>\n",
       "      <td>1</td>\n",
       "      <td>180.339996</td>\n",
       "      <td>49</td>\n",
       "      <td>101.406161</td>\n",
       "      <td>23</td>\n",
       "    </tr>\n",
       "    <tr>\n",
       "      <th>2</th>\n",
       "      <td>102</td>\n",
       "      <td>1</td>\n",
       "      <td>1</td>\n",
       "      <td>190.500000</td>\n",
       "      <td>63</td>\n",
       "      <td>102.001501</td>\n",
       "      <td>42</td>\n",
       "    </tr>\n",
       "    <tr>\n",
       "      <th>3</th>\n",
       "      <td>103</td>\n",
       "      <td>1</td>\n",
       "      <td>1</td>\n",
       "      <td>162.559998</td>\n",
       "      <td>80</td>\n",
       "      <td>60.781328</td>\n",
       "      <td>15</td>\n",
       "    </tr>\n",
       "    <tr>\n",
       "      <th>4</th>\n",
       "      <td>106</td>\n",
       "      <td>1</td>\n",
       "      <td>1</td>\n",
       "      <td>177.800003</td>\n",
       "      <td>45</td>\n",
       "      <td>77.989475</td>\n",
       "      <td>13</td>\n",
       "    </tr>\n",
       "  </tbody>\n",
       "</table>\n",
       "</div>"
      ],
      "text/plain": [
       "   patient_id sex race   height_cm  age  weight_kgs  lenght_stay\n",
       "0         100   1    1  172.720001   58   82.553744            5\n",
       "1         101   1    1  180.339996   49  101.406161           23\n",
       "2         102   1    1  190.500000   63  102.001501           42\n",
       "3         103   1    1  162.559998   80   60.781328           15\n",
       "4         106   1    1  177.800003   45   77.989475           13"
      ]
     },
     "execution_count": 9,
     "metadata": {},
     "output_type": "execute_result"
    }
   ],
   "source": [
    "df_char.head()"
   ]
  },
  {
   "cell_type": "code",
   "execution_count": 8,
   "id": "07d7a199-f50a-41b2-82a4-a5360a01d741",
   "metadata": {},
   "outputs": [],
   "source": [
    "df_char.loc[df_char.sex == 'MALE', 'sex']= 0\n",
    "df_char.loc[df_char.sex != 'MALE', 'sex']= 1\n",
    "df_char.loc[df_char.race == 'BLACK', 'race']= 0\n",
    "df_char.loc[df_char.race != 'BLACK', 'race']= 1"
   ]
  },
  {
   "cell_type": "code",
   "execution_count": 20,
   "id": "6c025825-618b-4034-ab7f-88d18eb5ad5b",
   "metadata": {},
   "outputs": [],
   "source": [
    "X_char = []\n",
    "col_patient = y_col_names.index('patient_id')\n",
    "col_target = y_col_names.index('braden_score_class')\n",
    "for xx, sample in zip(X.squeeze(), y):\n",
    "    char_pat = df_char[df_char[\"patient_id\"] == int(sample[col_patient])]\n",
    "    char_final = list(char_pat.loc[:, char_pat.columns != \"patient_id\"].values[0])\n",
    "    xx = np.transpose(xx, (1,0))\n",
    "    poi = POI(xx)\n",
    "\n",
    "    char_final.append(poi)\n",
    "    X_char.append(char_final)"
   ]
  },
  {
   "cell_type": "code",
   "execution_count": 22,
   "id": "5ca227cd-3eb1-4ce3-b772-ddae1a78913e",
   "metadata": {},
   "outputs": [],
   "source": [
    "out_file = \"/home/jsenadesouza/DA-healthy2patient/results/outcomes/dataset/dataset_demographics_poi.npz\"\n",
    "np.savez(out_file, X=tmp['X'], y=tmp['y'], y_col_names=tmp['y_col_names'], X_char=X_char)"
   ]
  },
  {
   "cell_type": "code",
   "execution_count": 43,
   "id": "132ba57e-09e5-4c58-ac2a-db959e36eda4",
   "metadata": {},
   "outputs": [],
   "source": [
    "X_char = []\n",
    "col_patient = y_col_names.index('patient_id')\n",
    "col_target = y_col_names.index('braden_score_class')\n",
    "for sample in y:\n",
    "    char_pat = df_char[df_char[\"patient_id\"] == int(sample[col_patient])]\n",
    "    char_final = char_pat.loc[:, char_pat.columns != \"patient_id\"].values[0]\n",
    "    X_char.append(char_final)"
   ]
  },
  {
   "cell_type": "code",
   "execution_count": 40,
   "id": "c3805ca5-34fa-49e4-8ed1-9cf0f6680dd6",
   "metadata": {},
   "outputs": [
    {
     "data": {
      "text/plain": [
       "(array([0.        , 0.03333333, 0.06666667, 0.1       , 0.13333333,\n",
       "        0.16666667, 0.2       , 0.23333333, 0.26666667, 0.3       ,\n",
       "        0.33333333, 0.36666667, 0.4       , 0.43333333, 0.46666667,\n",
       "        0.5       , 0.53333333, 0.56666667, 0.6       , 0.63333333,\n",
       "        0.66666667, 0.7       , 0.73333333, 0.76666667, 0.8       ,\n",
       "        0.83333333, 0.86666667, 0.9       , 0.93333333, 0.96666667,\n",
       "        1.        ]),\n",
       " array([  41,   19,   29,   24,   22,   28,   25,   15,   26,   25,   30,\n",
       "          30,   34,   35,   41,   42,   68,   65,   76,   83,   82,  117,\n",
       "         123,  151,  203,  217,  210,  314,  406,  476, 3442]))"
      ]
     },
     "execution_count": 40,
     "metadata": {},
     "output_type": "execute_result"
    }
   ],
   "source": [
    "np.unique(np.array(X_char)[:, -1], return_counts=True)"
   ]
  },
  {
   "cell_type": "markdown",
   "id": "a4425d41-d1e7-4d54-b447-45aa2f2cf64b",
   "metadata": {},
   "source": [
    "Classify with SVM using demographics features "
   ]
  },
  {
   "cell_type": "code",
   "execution_count": 42,
   "id": "a67d5dc6-a544-4c2d-8216-5ac5e93e263e",
   "metadata": {},
   "outputs": [
    {
     "name": "stdout",
     "output_type": "stream",
     "text": [
      " acc = 0.6230769230769231\n",
      "f1 = 0.38388625592417064\n",
      "recall = 0.5\n",
      " acc = 0.6230769230769231\n",
      "f1 = 0.38388625592417064\n",
      "recall = 0.5\n",
      " acc = 0.25384615384615383\n",
      "f1 = 0.25255648207202486\n",
      "recall = 0.28110355253212393\n",
      " acc = 0.6230769230769231\n",
      "f1 = 0.38388625592417064\n",
      "recall = 0.5\n",
      " acc = 0.6104695919938414\n",
      "f1 = 0.37906309751434036\n",
      "recall = 0.4901112484548826\n",
      "accuracy: 54.67 ± 15.62\n",
      "f1-score: 35.67 ± 5.55\n",
      "recall: 45.42 ± 9.24\n"
     ]
    }
   ],
   "source": [
    "from sklearn import svm\n",
    "from sklearn.model_selection import StratifiedKFold\n",
    "from sklearn.metrics import accuracy_score, balanced_accuracy_score, f1_score, recall_score\n",
    "from scipy import stats as st\n",
    "\n",
    "skf = StratifiedKFold(n_splits=5)\n",
    "\n",
    "y_braden =  y[:,col_target]\n",
    "X_data = np.array(X_char)[:, 0:6]\n",
    "cum_acc, cum_recall,cum_f1 = [], [], []\n",
    "for train_index, test_index in skf.split(X_data, y_braden):\n",
    "    clf = svm.SVC()\n",
    "    clf = clf.fit(X_data[train_index], y_braden[train_index])\n",
    "    y_pred = clf.predict(X_data[test_index])\n",
    "    y_true = y_braden[test_index]\n",
    "    cum_acc.append(accuracy_score(y_true, y_pred))\n",
    "    cum_f1.append(f1_score(y_true, y_pred, average=\"macro\"))\n",
    "    cum_recall.append(recall_score(y_true, y_pred, average=\"macro\", zero_division=0))\n",
    "    print(f\" acc = {accuracy_score(y_true, y_pred)}\")\n",
    "    print(f\"f1 = {f1_score(y_true, y_pred, average='macro')}\")\n",
    "    print(f'recall = {recall_score(y_true, y_pred, average=\"macro\", zero_division=0)}')\n",
    "    \n",
    "ci_mean = st.t.interval(0.9, len(cum_acc) - 1, loc=np.mean(cum_acc), scale=st.sem(cum_acc))\n",
    "ci_f1 = st.t.interval(0.9, len(cum_f1) -1, loc=np.mean(cum_f1), scale=st.sem(cum_f1))\n",
    "ci_recall = st.t.interval(0.9, len(cum_recall) -1, loc=np.mean(cum_recall), scale=st.sem(cum_recall))\n",
    "\n",
    "print('accuracy: {:.2f} ± {:.2f}'.format(np.mean(cum_acc) * 100, abs(np.mean(cum_acc) - ci_mean[0]) * 100))\n",
    "print('f1-score: {:.2f} ± {:.2f}'.format(np.mean(cum_f1) * 100, abs(np.mean(cum_f1) - ci_f1[0]) * 100))\n",
    "print('recall: {:.2f} ± {:.2f}'.format(np.mean(cum_recall) * 100, abs(np.mean(cum_recall) - ci_recall[0]) * 100))"
   ]
  },
  {
   "cell_type": "code",
   "execution_count": 32,
   "id": "34637a42-6dcf-484d-813d-fc4861ccb8b0",
   "metadata": {},
   "outputs": [
    {
     "data": {
      "text/plain": [
       "array(['44', '44', '44', ..., '65', '65', '65'], dtype='<U18')"
      ]
     },
     "execution_count": 32,
     "metadata": {},
     "output_type": "execute_result"
    }
   ],
   "source": [
    "y[:, col_patient]"
   ]
  },
  {
   "cell_type": "code",
   "execution_count": null,
   "id": "7c50ad45-7850-4dcc-ad74-fef17c2229af",
   "metadata": {},
   "outputs": [],
   "source": [
    "print(\"Extracting Features\")\n",
    "start = time()\n",
    "with Pool(20) as p:\n",
    "        X_feat = p.map(feature_extraction, X_trasp)\n",
    "end = time()\n",
    "print(f\"{end-start:.4} seconds passed.\")\n",
    "#X_feat = np.array(feature_extraction(X))"
   ]
  },
  {
   "cell_type": "code",
   "execution_count": null,
   "id": "2f376b42-dbdc-4bb0-a37c-8b30f80cfeee",
   "metadata": {},
   "outputs": [],
   "source": [
    "from sklearn import preprocessing\n",
    "def isfloat(num):\n",
    "    try:\n",
    "        float(num)\n",
    "        return True\n",
    "    except ValueError:\n",
    "        return False\n",
    "\n",
    "new_y = []\n",
    "for col in range(y.shape[1]):\n",
    "    if isfloat(y[0, col]):\n",
    "        if len(new_y) == 0:\n",
    "            new_y = y[:,col]\n",
    "        else:\n",
    "            new_y = np.vstack((new_y, y[:,col]))\n",
    "    else:\n",
    "        le = preprocessing.LabelEncoder()\n",
    "        le.fit(y[:, col])\n",
    "        transformed_col = le.transform(y[:, col])\n",
    "        if len(new_y) == 0:\n",
    "            new_y = transformed_col\n",
    "        else:\n",
    "            new_y = np.vstack((new_y, transformed_col))\n",
    "new_y = np.transpose(np.array(new_y), (1,0)).astype(np.float32)"
   ]
  }
 ],
 "metadata": {
  "kernelspec": {
   "display_name": "Python 3 (ipykernel)",
   "language": "python",
   "name": "python3"
  },
  "language_info": {
   "codemirror_mode": {
    "name": "ipython",
    "version": 3
   },
   "file_extension": ".py",
   "mimetype": "text/x-python",
   "name": "python",
   "nbconvert_exporter": "python",
   "pygments_lexer": "ipython3",
   "version": "3.8.12"
  }
 },
 "nbformat": 4,
 "nbformat_minor": 5
}
