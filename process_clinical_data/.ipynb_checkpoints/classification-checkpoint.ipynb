{
 "cells": [
  {
   "cell_type": "code",
   "execution_count": 1,
   "id": "ac584e6b-cbb7-4013-a30c-5f1d8a6d6d82",
   "metadata": {},
   "outputs": [],
   "source": [
    "import numpy as np\n",
    "from tqdm import tqdm\n",
    "import math\n",
    "from time import time\n",
    "from multiprocessing import Pool"
   ]
  },
  {
   "cell_type": "code",
   "execution_count": 2,
   "id": "b529d354-7e5a-4b7f-acbb-2bfbc3d3270b",
   "metadata": {},
   "outputs": [
    {
     "name": "stdout",
     "output_type": "stream",
     "text": [
      "['heart_rate', 'heart_rate_class', 'temp', 'temp_class', 'lenght_of_stay', 'is_dead', 'pain_score', 'pain_score_class', 'sofa_score', 'sofa_score_class', 'map', 'map_class', 'braden_score', 'braden_score_class', 'spo2', 'spo2_class', 'cam', 'patient_id']\n"
     ]
    }
   ],
   "source": [
    "data_input_file = \"/home/jsenadesouza/DA-healthy2patient/results/outcomes/dataset/dataset_demographics_poi.npz\"\n",
    "tmp = np.load(data_input_file, allow_pickle=True)\n",
    "X = tmp[\"X\"]\n",
    "y = tmp['y']\n",
    "X_char = tmp['X_char']\n",
    "y_col_names = list(tmp['y_col_names'])\n",
    "print(y_col_names)"
   ]
  },
  {
   "cell_type": "code",
   "execution_count": 8,
   "id": "d6d7eab2-7547-436f-8658-9225eb293b94",
   "metadata": {},
   "outputs": [],
   "source": []
  },
  {
   "cell_type": "code",
   "execution_count": 9,
   "id": "a1eb5eef-52a0-42f6-bd80-a5a3753b1a39",
   "metadata": {},
   "outputs": [],
   "source": [
    "regression_val = [0, 2, 4, 5, 6, 8, 10, 14, 16]\n",
    "class_val = [1, 3, 4, 5, 7, 9, 11, 15, 16]\n",
    "_all = [0, 1, 2, 3, 4, 5, 6, 7, 8, 9, 10, 11, 14, 15, 16]"
   ]
  },
  {
   "cell_type": "code",
   "execution_count": 10,
   "id": "55890fb5-1584-471a-9866-dafcdadb0bef",
   "metadata": {},
   "outputs": [],
   "source": [
    "def get_clinical_data(y, y_col_names, target_col_name):\n",
    "    regression_val = [0, 2, 6, 8, 10, 14, 16]\n",
    "    col_target = y_col_names.index(target_col_name)\n",
    "    col_target_reg = y_col_names.index(target_col_name.split(\"_class\")[0])\n",
    "\n",
    "    clin_var_idx = []\n",
    "    for ii in regression_val:\n",
    "        ii = int(ii)\n",
    "        if ii != col_target and ii != col_target_reg:\n",
    "            clin_var_idx.append(ii)\n",
    "\n",
    "    clin_var = y[:, clin_var_idx]\n",
    "\n",
    "    print(f'Target = {y_col_names[col_target]}')\n",
    "    print(\"\\nCLinical variables used:\\n\")\n",
    "    for idx in clin_var_idx:\n",
    "        print(f\"{y_col_names[idx]}\")\n",
    "\n",
    "    return clin_var.astype(np.float32)\n"
   ]
  },
  {
   "cell_type": "markdown",
   "id": "41888ea9-4833-4c4f-ac84-06b79ea1f8e9",
   "metadata": {},
   "source": [
    "Classify with SVM using demographics features "
   ]
  },
  {
   "cell_type": "code",
   "execution_count": 15,
   "id": "934482b9-6ca8-4368-8b4e-b5b534886c3f",
   "metadata": {},
   "outputs": [
    {
     "name": "stdout",
     "output_type": "stream",
     "text": [
      " acc = 0.40692307692307694\n",
      "f1 = 0.36028807779427996\n",
      "recall = 0.6509936667394628\n",
      " acc = 0.6992307692307692\n",
      "f1 = 0.5373366501644307\n",
      "recall = 0.7165538327145664\n",
      " acc = 0.6515384615384615\n",
      "f1 = 0.44832638393823204\n",
      "recall = 0.4907426633444075\n",
      " acc = 0.5976923076923077\n",
      "f1 = 0.40561895095547695\n",
      "recall = 0.4137423864894795\n",
      " acc = 0.7321016166281755\n",
      "f1 = 0.44409082412663425\n",
      "recall = 0.4337165588389579\n",
      "accuracy: 61.75 ± 12.22\n",
      "recall: 54.11 ± 12.89\n",
      "f1-score: 43.91 ± 6.23\n"
     ]
    }
   ],
   "source": [
    "from sklearn import svm\n",
    "from sklearn.model_selection import StratifiedKFold\n",
    "from sklearn.metrics import accuracy_score, balanced_accuracy_score, f1_score, recall_score\n",
    "from scipy import stats as st\n",
    "\n",
    "skf = StratifiedKFold(n_splits=5)\n",
    "\n",
    "clin_data = np.array(clin_var)\n",
    "char = np.expand_dims(np.array(X_char)[:, -1], axis=1)\n",
    "X_data = np.concatenate([X_feat, clin_data, X_char], axis=1)\n",
    "cum_acc, cum_recall,cum_f1 = [], [], []\n",
    "for train_index, test_index in skf.split(X_data, y_target):\n",
    "    clf = svm.SVC(class_weight='balanced')\n",
    "    clf = clf.fit(X_data[train_index], y_target[train_index])\n",
    "    y_pred = clf.predict(X_data[test_index])\n",
    "    y_true = y_target[test_index]\n",
    "    cum_acc.append(accuracy_score(y_true, y_pred))\n",
    "    cum_f1.append(f1_score(y_true, y_pred, average=\"macro\"))\n",
    "    cum_recall.append(recall_score(y_true, y_pred, average=\"macro\", zero_division=0))\n",
    "    print(f\" acc = {accuracy_score(y_true, y_pred)}\")\n",
    "    print(f\"f1 = {f1_score(y_true, y_pred, average='macro')}\")\n",
    "    print(f'recall = {recall_score(y_true, y_pred, average=\"macro\", zero_division=0)}')\n",
    "    \n",
    "ci_mean = st.t.interval(0.9, len(cum_acc) - 1, loc=np.mean(cum_acc), scale=st.sem(cum_acc))\n",
    "ci_f1 = st.t.interval(0.9, len(cum_f1) -1, loc=np.mean(cum_f1), scale=st.sem(cum_f1))\n",
    "ci_recall = st.t.interval(0.9, len(cum_recall) -1, loc=np.mean(cum_recall), scale=st.sem(cum_recall))\n",
    "\n",
    "print('accuracy: {:.2f} ± {:.2f}'.format(np.mean(cum_acc) * 100, abs(np.mean(cum_acc) - ci_mean[0]) * 100))\n",
    "print('recall: {:.2f} ± {:.2f}'.format(np.mean(cum_recall) * 100, abs(np.mean(cum_recall) - ci_recall[0]) * 100))\n",
    "print('f1-score: {:.2f} ± {:.2f}'.format(np.mean(cum_f1) * 100, abs(np.mean(cum_f1) - ci_f1[0]) * 100))\n"
   ]
  },
  {
   "cell_type": "code",
   "execution_count": 14,
   "id": "336d9be1-ecf6-4a5a-82e1-8fe85d8be768",
   "metadata": {},
   "outputs": [
    {
     "name": "stdout",
     "output_type": "stream",
     "text": [
      "(array([0, 1]), array([1388, 5111]))\n",
      "0.2135713186644099\n",
      "0.7864286813355901\n"
     ]
    }
   ],
   "source": [
    "col_los = y_col_names.index('lenght_of_stay')\n",
    "los_target = [0 if float(yy) <= 14 else 1 for yy in y[:, col_los]]\n",
    "print(np.unique(los_target, return_counts=True))\n",
    "print(1388/(1388+5111))\n",
    "print(5111/(1388+5111))"
   ]
  },
  {
   "cell_type": "code",
   "execution_count": null,
   "id": "f49b2d0f-c38f-4041-bc3f-fc7dac305001",
   "metadata": {},
   "outputs": [],
   "source": []
  }
 ],
 "metadata": {
  "kernelspec": {
   "display_name": "Python 3 (ipykernel)",
   "language": "python",
   "name": "python3"
  },
  "language_info": {
   "codemirror_mode": {
    "name": "ipython",
    "version": 3
   },
   "file_extension": ".py",
   "mimetype": "text/x-python",
   "name": "python",
   "nbconvert_exporter": "python",
   "pygments_lexer": "ipython3",
   "version": "3.8.12"
  }
 },
 "nbformat": 4,
 "nbformat_minor": 5
}
