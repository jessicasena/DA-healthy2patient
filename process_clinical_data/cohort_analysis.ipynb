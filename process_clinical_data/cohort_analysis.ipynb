{
 "cells": [
  {
   "cell_type": "code",
   "execution_count": 34,
   "id": "32589f6a-31d9-4e70-a443-908a822093ee",
   "metadata": {},
   "outputs": [],
   "source": [
    "import os\n",
    "import glob\n",
    "import numpy as np\n",
    "dir_dataset = \"/data/datasets/ICU_Data/Sensor_Data/\"\n"
   ]
  },
  {
   "cell_type": "code",
   "execution_count": 11,
   "id": "67f87eba-5a3a-4700-b3ce-7857fef78d5d",
   "metadata": {},
   "outputs": [],
   "source": [
    "total_patients = glob.glob(dir_dataset+\"/Patient_*\")"
   ]
  },
  {
   "cell_type": "code",
   "execution_count": 91,
   "id": "9a2b7ed4-4557-4602-a486-707bbcfc461a",
   "metadata": {},
   "outputs": [],
   "source": [
    "patients_with_acc = glob.glob(dir_dataset+\"/Patient_*/Accelerometer/*/*RAW.csv\")\n",
    "patients_with_acc = [x.split(\"/\")[5] for x in patients_with_acc]\n",
    "patients_with_acc = np.unique(patients_with_acc)"
   ]
  },
  {
   "cell_type": "code",
   "execution_count": 37,
   "id": "f182f876-5dcc-4cc2-9142-b23fcef46ea3",
   "metadata": {},
   "outputs": [],
   "source": [
    "acc_arm = glob.glob(dir_dataset+\"/Patient_*/Accelerometer/*/ARM*RAW.csv\")\n",
    "acc_arm.extend(glob.glob(dir_dataset+\"/Patient_*/Accelerometer/*/WRIST*RAW.csv\"))\n",
    "patients_acc_arm = np.unique([x.split(\"/\")[5] for x in acc_arm])"
   ]
  },
  {
   "cell_type": "code",
   "execution_count": 38,
   "id": "98981190-4118-4f14-b254-d813c6ef2b7b",
   "metadata": {},
   "outputs": [],
   "source": [
    "acc_ankle = glob.glob(dir_dataset+\"/Patient_*/Accelerometer/*/ANKLE*RAW.csv\")\n",
    "patients_acc_ankle = np.unique([x.split(\"/\")[5] for x in acc_ankle])"
   ]
  },
  {
   "cell_type": "code",
   "execution_count": 110,
   "id": "cbbb5667-d6ee-4d39-9f45-f48a882ec2c1",
   "metadata": {},
   "outputs": [],
   "source": [
    "data_input_file = \"/home/jsenadesouza/DA-healthy2patient/results/outcomes/dataset/f10_t1800_outcomesscore_patientid_acc_30minmargin_measurednowcol_30min_10hz_filtered.npz\"\n",
    "tmp = np.load(data_input_file, allow_pickle=True)\n",
    "y = tmp['y']\n",
    "y_col_names = list(tmp['y_col_names'])\n",
    "col_idx = y_col_names.index('patient_id')\n",
    "y_target = np.array(y[:, col_idx])"
   ]
  },
  {
   "cell_type": "code",
   "execution_count": 113,
   "id": "8918bf53-6bc5-4814-b24d-5b87d2674df5",
   "metadata": {},
   "outputs": [],
   "source": [
    "log = '/home/jsenadesouza/DA-healthy2patient/code/frankdataset/log_data_generation.txt'\n",
    "log_file = open(log)\n",
    "discarded = []\n",
    "kept = []\n",
    "error = []\n",
    "for line in log_file:\n",
    "    if '/Patient' in line:\n",
    "        if \"wrist:  \" in line:\n",
    "            line = line.split(\"wrist:  \")[1]\n",
    "            line = line.split(\"/\")[5]\n",
    "            discarded.append(line)\n",
    "        elif \"Error on file\" in line:\n",
    "            line = line.split(\"/\")[5]\n",
    "            error.append(line)\n",
    "        elif \"RAW.csv\":\n",
    "            line = line.split(\"/\")[5].split(\"_\")[1]\n",
    "            kept.append(line)        "
   ]
  },
  {
   "cell_type": "code",
   "execution_count": 92,
   "id": "8020f1f5-f329-4660-af9a-0001d707ad70",
   "metadata": {},
   "outputs": [
    {
     "name": "stdout",
     "output_type": "stream",
     "text": [
      "Total patients= 98\n",
      "Patients with acc = 91\n",
      "Patients with acc in the ARM: 83\n",
      "Patietns with acc in the ANKLE: 79\n"
     ]
    }
   ],
   "source": [
    "print(f'Total patients= {len(total_patients)}')\n",
    "print(f'Patients with acc = {len(patients_with_acc)}')\n",
    "print(f'Patients with acc in the ARM: {len(patients_acc_arm)}')\n",
    "print(f'Patietns with acc in the ANKLE: {len(patients_acc_ankle)}')"
   ]
  },
  {
   "cell_type": "code",
   "execution_count": 108,
   "id": "e11fb720-866e-48f7-a498-f657a525bdb4",
   "metadata": {},
   "outputs": [
    {
     "name": "stdout",
     "output_type": "stream",
     "text": [
      "Discarded = 79\n",
      "kept = 83\n",
      "error = 1\n"
     ]
    }
   ],
   "source": [
    "print(f'Discarded = {len(np.unique(discarded))}')\n",
    "print(f'kept = {len(np.unique(kept))}')\n",
    "print(f'error = {len(np.unique(error))}')\n"
   ]
  },
  {
   "cell_type": "code",
   "execution_count": 118,
   "id": "a9d7c454-47e5-43bc-8478-1d8b6c42010e",
   "metadata": {},
   "outputs": [
    {
     "name": "stdout",
     "output_type": "stream",
     "text": [
      "Final number of patients: 79\n",
      "Number of samples: 6499\n",
      "Hours: 3249.5\n"
     ]
    }
   ],
   "source": [
    "print(f'Final number of patients: {len(np.unique(y_target))}')\n",
    "print(f'Number of samples: {y_target.shape[0]}')\n",
    "print(f'Hours: {(y_target.shape[0]*30)/60}')\n"
   ]
  },
  {
   "cell_type": "code",
   "execution_count": null,
   "id": "bf9e199b-f035-41cf-a646-ff9762229e0e",
   "metadata": {},
   "outputs": [],
   "source": []
  }
 ],
 "metadata": {
  "kernelspec": {
   "display_name": "Python 3 (ipykernel)",
   "language": "python",
   "name": "python3"
  },
  "language_info": {
   "codemirror_mode": {
    "name": "ipython",
    "version": 3
   },
   "file_extension": ".py",
   "mimetype": "text/x-python",
   "name": "python",
   "nbconvert_exporter": "python",
   "pygments_lexer": "ipython3",
   "version": "3.8.12"
  }
 },
 "nbformat": 4,
 "nbformat_minor": 5
}